{
 "cells": [
  {
   "cell_type": "markdown",
   "id": "15f146c9-c3b4-4977-9162-e8d05eec4933",
   "metadata": {},
   "source": [
    "1D  Indexing and slicing"
   ]
  },
  {
   "cell_type": "markdown",
   "id": "bab8f7ca-75cc-4d3f-9d8c-62c9836670f6",
   "metadata": {},
   "source": [
    "Array Indexing"
   ]
  },
  {
   "cell_type": "code",
   "execution_count": 6,
   "id": "8981991e-c51b-4c69-a0e1-77f9911dccc0",
   "metadata": {},
   "outputs": [],
   "source": [
    "import numpy as np"
   ]
  },
  {
   "cell_type": "code",
   "execution_count": 10,
   "id": "fa1567cc-83b5-4f5d-9095-b5208aca2dd2",
   "metadata": {},
   "outputs": [
    {
     "name": "stdout",
     "output_type": "stream",
     "text": [
      "[12 13 14 15 16 17 18 19 20 21 22 23 24 25]\n",
      "14\n",
      "1\n",
      "(14,)\n",
      "int32\n",
      "14\n"
     ]
    }
   ],
   "source": [
    "a = np.array([12,13,14,15,16,17,18,19,20,21,22,23,24,25])\n",
    "print(a)\n",
    "print(len(a))\n",
    "print(a.ndim)\n",
    "print(a.shape)\n",
    "print(a.dtype)\n",
    "print(a.size)"
   ]
  },
  {
   "cell_type": "code",
   "execution_count": 12,
   "id": "6bb58ecd-f5d5-46df-89d6-e8c0659fed0f",
   "metadata": {},
   "outputs": [
    {
     "name": "stdout",
     "output_type": "stream",
     "text": [
      "[12 13 14 15 16 17 18 19 20 21 22 23 24 25]\n",
      "12\n",
      "16\n",
      "20\n",
      "24\n",
      "19\n",
      "21\n"
     ]
    }
   ],
   "source": [
    "print(a)\n",
    "print(a[0])\n",
    "print(a[4])\n",
    "print(a[8])\n",
    "print(a[-2])\n",
    "print(a[-7])\n",
    "print(a[-5])"
   ]
  },
  {
   "cell_type": "markdown",
   "id": "6d578804-9d21-46a5-9bb0-e3d62fda0e1d",
   "metadata": {},
   "source": [
    "1D Slicing Array\n",
    "syntax :\n",
    "s = np.array([10,20,30,40,50,60,70,90])\n",
    "s[start:end:step]"
   ]
  },
  {
   "cell_type": "code",
   "execution_count": 18,
   "id": "99ba5351-4760-4499-a0c2-6b90c1df75fc",
   "metadata": {},
   "outputs": [
    {
     "name": "stdout",
     "output_type": "stream",
     "text": [
      "[12 13 14 15 16 17 18 19 20 21 22 23 24 25]\n",
      "[14 15 16]\n",
      "[15 16 17 18 19 20 21 22 23 24 25]\n",
      "[12 13 14 15 16 17]\n",
      "[22 23 24 25]\n",
      "[12 13 14 15 16 17 18 19]\n",
      "[12 13 14 15 16 17 18 19 20 21 22 23 24 25]\n",
      "[25 24 23 22 21 20 19 18 17 16 15 14 13 12]\n"
     ]
    }
   ],
   "source": [
    "print(a)\n",
    "print(a[2:5]) # start = 2 , end = 5 , step = +1\n",
    "print(a[3:])   # start = 3 , step = +1\n",
    "print(a[ :6])  #  end = 6 , step = +1\n",
    "print(a[-4:])  # start = -4, step = +1\n",
    "print(a[:-6])  # end = -6 , step = +1\n",
    "print(a[:])    # step = +1\n",
    "print(a[::-1]) # reverse\n"
   ]
  },
  {
   "cell_type": "code",
   "execution_count": 22,
   "id": "67afa23d-5d46-476f-93d1-1e62fb1a4d1f",
   "metadata": {},
   "outputs": [
    {
     "name": "stdout",
     "output_type": "stream",
     "text": [
      "[12 13 14 15 16 17 18 19 20 21 22 23 24 25]\n",
      "[13 15 17 19]\n",
      "[15 16 17 18]\n",
      "[15 17]\n",
      "[24 22 20]\n",
      "[24 21 18]\n",
      "[15 18]\n"
     ]
    }
   ],
   "source": [
    "print(a)\n",
    "print(a[1:8:2])  # start = 1 , end = 8 , step = +2 (1 + 2 = 3)  R to L  (end -1)\n",
    "print(a[3:-7])  # start = 3 , end = -7 , step = +1    R to L (end -1)\n",
    "print(a[3:-7:2])   # R to L (end -1)\n",
    "print(a[-2:-8:-2])  # L to R  (end +1)\n",
    "print(a[-2:3:-3])  # L to R  (end +1)\n",
    "print(a[3:8:3])   # R to L  (end -1)"
   ]
  },
  {
   "cell_type": "code",
   "execution_count": null,
   "id": "baa3391d-e1aa-47be-969a-8a404c9d9526",
   "metadata": {},
   "outputs": [],
   "source": []
  }
 ],
 "metadata": {
  "kernelspec": {
   "display_name": "Python 3 (ipykernel)",
   "language": "python",
   "name": "python3"
  },
  "language_info": {
   "codemirror_mode": {
    "name": "ipython",
    "version": 3
   },
   "file_extension": ".py",
   "mimetype": "text/x-python",
   "name": "python",
   "nbconvert_exporter": "python",
   "pygments_lexer": "ipython3",
   "version": "3.12.4"
  }
 },
 "nbformat": 4,
 "nbformat_minor": 5
}
