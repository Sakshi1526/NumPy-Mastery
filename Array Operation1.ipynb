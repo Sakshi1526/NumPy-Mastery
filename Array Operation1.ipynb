{
 "cells": [
  {
   "cell_type": "markdown",
   "id": "5c9f6e26-84c1-4847-bb51-654457a1f377",
   "metadata": {},
   "source": [
    "Numpy Array Operations"
   ]
  },
  {
   "cell_type": "markdown",
   "id": "d7a307f8-205b-4160-a76b-40c7c576adc5",
   "metadata": {},
   "source": [
    "Numpy provides different  functions for performing different array operations"
   ]
  },
  {
   "cell_type": "code",
   "execution_count": 2,
   "id": "dcf4c83b-af95-4a5c-96e6-3dd255dc6896",
   "metadata": {},
   "outputs": [],
   "source": [
    "import numpy as np"
   ]
  },
  {
   "cell_type": "markdown",
   "id": "964e0e7e-bfad-4ff9-b5eb-e027e28ef6cc",
   "metadata": {},
   "source": [
    "1) np.sum()"
   ]
  },
  {
   "cell_type": "code",
   "execution_count": 6,
   "id": "a734bdbf-ffd2-4b60-a877-43b0f9ec8e2e",
   "metadata": {},
   "outputs": [
    {
     "name": "stdout",
     "output_type": "stream",
     "text": [
      "[[1 2]\n",
      " [3 4]]\n",
      "int32\n",
      "4\n",
      "(2, 2)\n",
      "2\n"
     ]
    }
   ],
   "source": [
    "a = np.array([[1,2],[3,4]])\n",
    "print(a)\n",
    "print(a.dtype)\n",
    "print(a.size)\n",
    "print(a.shape)\n",
    "print(a.ndim)"
   ]
  },
  {
   "cell_type": "code",
   "execution_count": 10,
   "id": "e4a135af-356b-4396-9334-f53e335963cb",
   "metadata": {},
   "outputs": [
    {
     "name": "stdout",
     "output_type": "stream",
     "text": [
      "[[1 2]\n",
      " [3 4]]\n",
      "10\n",
      "[3 7]\n",
      "[4 6]\n"
     ]
    }
   ],
   "source": [
    "print(a)\n",
    "print(a.sum())  # 1+2+3+4 = 10\n",
    "print(a.sum(axis=1)) # axis = 1 (row wise) , 1+2 = 3, 3+4 = 7\n",
    "print(a.sum(axis=0))  # axis = 0 (column wise) , 1+3 =4, 2+4 = 6"
   ]
  },
  {
   "cell_type": "code",
   "execution_count": 12,
   "id": "a8350771-c2f9-4235-ab59-1ca10bcf30ed",
   "metadata": {},
   "outputs": [
    {
     "name": "stdout",
     "output_type": "stream",
     "text": [
      "[[10 11 12 13]\n",
      " [14 15 16 17]\n",
      " [18 19 20 21]]\n"
     ]
    }
   ],
   "source": [
    "b = np.arange(10,22).reshape(3,4)\n",
    "print(b)"
   ]
  },
  {
   "cell_type": "code",
   "execution_count": 14,
   "id": "605dc925-eda5-4b6b-943a-296a97c98285",
   "metadata": {},
   "outputs": [
    {
     "name": "stdout",
     "output_type": "stream",
     "text": [
      "186\n",
      "[3 7]\n",
      "[4 6]\n"
     ]
    }
   ],
   "source": [
    "print(b.sum()) # 10+11+....21 = 186\n",
    "print(a.sum(axis=1)) # (row wise) , 10+11+12+13 = 46.....\n",
    "print(a.sum(axis=0)) # column wise , 10+14+18 =42"
   ]
  },
  {
   "cell_type": "markdown",
   "id": "cbb34490-9891-48e4-87d6-dd33eba14cf3",
   "metadata": {},
   "source": [
    "2) np.min() and np.max()"
   ]
  },
  {
   "cell_type": "code",
   "execution_count": 16,
   "id": "fc316099-c977-4bb9-b40a-98b5c0120189",
   "metadata": {},
   "outputs": [
    {
     "name": "stdout",
     "output_type": "stream",
     "text": [
      "[[12 13  4]\n",
      " [15 17 16]\n",
      " [18 19 11]\n",
      " [16 22 20]]\n"
     ]
    }
   ],
   "source": [
    "m = [[ 12,13,4],[15,17,16],[18,19,11],[16,22,20]]\n",
    "w1 = np.array(m)   # creating np.array out of list of list\n",
    "print(w1)"
   ]
  },
  {
   "cell_type": "code",
   "execution_count": 22,
   "id": "61047c4e-70a7-470d-bc62-79d6be185cc0",
   "metadata": {},
   "outputs": [
    {
     "name": "stdout",
     "output_type": "stream",
     "text": [
      "[12 13  4]\n",
      "[ 4 15 11 16]\n",
      "[18 22 20]\n",
      "[13 17 19 22]\n"
     ]
    }
   ],
   "source": [
    "# axis = 1 => row\n",
    "# axis = 0 => Column\n",
    "\n",
    "print(np.min(w1,axis=0))\n",
    "print(np.min(w1,axis=1))\n",
    "print(np.max(w1,axis=0))\n",
    "print(np.max(w1,axis=1))"
   ]
  },
  {
   "cell_type": "markdown",
   "id": "39781b88-ee75-4572-9ec3-60ee05859b3f",
   "metadata": {},
   "source": [
    "3) np.argmax() and np.argmin()\n",
    "\n",
    "##  np.argmax () return  indices of max values along an axis\n",
    "##  np.argmin () return  indices of min values along an axis\n"
   ]
  },
  {
   "cell_type": "code",
   "execution_count": 28,
   "id": "cfb05e1c-deee-4899-9767-cb1fb9cf2d21",
   "metadata": {},
   "outputs": [
    {
     "name": "stdout",
     "output_type": "stream",
     "text": [
      "[12 14  7 79 32 45 28  4 17]\n",
      "79\n",
      "4\n"
     ]
    }
   ],
   "source": [
    "p1 = np.array([12,14,7,79,32,45,28,4,17])\n",
    "print(p1)\n",
    "print(np.max(p1))\n",
    "print(np.min(p1))"
   ]
  },
  {
   "cell_type": "code",
   "execution_count": 30,
   "id": "9546da8c-cf92-4626-8c87-2a1063b1906f",
   "metadata": {},
   "outputs": [
    {
     "name": "stdout",
     "output_type": "stream",
     "text": [
      "3\n",
      "7\n"
     ]
    }
   ],
   "source": [
    "print(np.argmax(p1))\n",
    "print(np.argmin(p1))"
   ]
  },
  {
   "cell_type": "code",
   "execution_count": 32,
   "id": "77273041-5344-4049-8f7b-fe73a8f6fbcc",
   "metadata": {},
   "outputs": [
    {
     "name": "stdout",
     "output_type": "stream",
     "text": [
      "[12 14  7 79 32 45 28  4 17]\n",
      "max_value is  79\n",
      "min_value is  4\n"
     ]
    }
   ],
   "source": [
    "print(p1)\n",
    "max_value = p1[np.argmax(p1)]\n",
    "min_value = p1[np.argmin(p1)]\n",
    "print(\"max_value is \", max_value)\n",
    "print(\"min_value is \", min_value)"
   ]
  },
  {
   "cell_type": "code",
   "execution_count": 43,
   "id": "8d3636d3-eb4f-4b3f-a2c2-01082928ab09",
   "metadata": {},
   "outputs": [
    {
     "name": "stdout",
     "output_type": "stream",
     "text": [
      "[[16 15 21]\n",
      " [15 16  8]\n",
      " [19  2 18]\n",
      " [ 9 12 13]]\n"
     ]
    }
   ],
   "source": [
    "r = [[16,15,21],[15,16,8],[19,2,18],[9,12,13]]\n",
    "p = np.array(r)\n",
    "print(p)"
   ]
  },
  {
   "cell_type": "code",
   "execution_count": 49,
   "id": "b592cd82-3eb2-4db3-8ce4-6df6a587c8da",
   "metadata": {},
   "outputs": [
    {
     "name": "stdout",
     "output_type": "stream",
     "text": [
      "[3 2 1]\n",
      "[1 2 1 0]\n",
      "[2 1 0]\n",
      "[1 2 1 0]\n"
     ]
    }
   ],
   "source": [
    "print(np.argmin(p,axis=0)) # column wise\n",
    "print(np.argmin(p,axis=1)) # row wise\n",
    "print(np.argmax(p,axis=0)) # column wise\n",
    "print(np.argmin(p,axis=1)) # row wise\n"
   ]
  },
  {
   "cell_type": "markdown",
   "id": "f99444de-9842-4568-bcce-68cd4533df37",
   "metadata": {},
   "source": [
    "4) np.sort()"
   ]
  },
  {
   "cell_type": "code",
   "execution_count": 51,
   "id": "4ba0b0b1-51ed-4c0e-b88d-09212ef05d2b",
   "metadata": {},
   "outputs": [
    {
     "name": "stdout",
     "output_type": "stream",
     "text": [
      "[34 23 56 12 39]\n"
     ]
    }
   ],
   "source": [
    "r1 = np.array([34,23,56,12,39])\n",
    "print(r1)"
   ]
  },
  {
   "cell_type": "code",
   "execution_count": 53,
   "id": "15944bfe-3d32-49af-bff4-a19c8ddca022",
   "metadata": {},
   "outputs": [
    {
     "name": "stdout",
     "output_type": "stream",
     "text": [
      "[12 23 34 39 56]\n",
      "[56 39 34 23 12]\n"
     ]
    }
   ],
   "source": [
    "r2 = np.sort(r1)   # ascending order\n",
    "print(r2)\n",
    "r2 = np.sort(r1)[::-1] # descending order\n",
    "print(r2)"
   ]
  },
  {
   "cell_type": "code",
   "execution_count": 55,
   "id": "77bc5de1-d473-47b4-801a-2706e0ebea66",
   "metadata": {},
   "outputs": [
    {
     "name": "stdout",
     "output_type": "stream",
     "text": [
      "[12 23 34 39 56]\n"
     ]
    }
   ],
   "source": [
    "r1 = np.sort(r1)   # Default sorting\n",
    "print(r1)"
   ]
  },
  {
   "cell_type": "code",
   "execution_count": 57,
   "id": "56340634-47cf-4ed3-94a8-a36648489655",
   "metadata": {},
   "outputs": [
    {
     "name": "stdout",
     "output_type": "stream",
     "text": [
      "[[11 21 18]\n",
      " [24 35 16]\n",
      " [ 7 14  3]]\n"
     ]
    }
   ],
   "source": [
    "r3 = np.array([[11,21,18],[24,35,16],[7,14,3]])\n",
    "print(r3)"
   ]
  },
  {
   "cell_type": "code",
   "execution_count": 59,
   "id": "c8e8fd20-9c46-4f65-a758-476ed8dcdb37",
   "metadata": {},
   "outputs": [
    {
     "name": "stdout",
     "output_type": "stream",
     "text": [
      "[[11 18 21]\n",
      " [16 24 35]\n",
      " [ 3  7 14]]\n",
      "[[ 7 14  3]\n",
      " [11 21 16]\n",
      " [24 35 18]]\n"
     ]
    }
   ],
   "source": [
    "r4 = np.sort(r3,axis=1)   # sort row wise\n",
    "print(r4)\n",
    "r5 = np.sort(r3,axis=0)  # sort column  wise\n",
    "print(r5)\n"
   ]
  },
  {
   "cell_type": "code",
   "execution_count": 61,
   "id": "86fcb42d-ce6f-4d74-8473-ed7ea2743e5d",
   "metadata": {},
   "outputs": [
    {
     "name": "stdout",
     "output_type": "stream",
     "text": [
      "[[11 18 21]\n",
      " [16 24 35]\n",
      " [ 3  7 14]]\n"
     ]
    }
   ],
   "source": [
    "r6 = np.sort(r3) # default sort order is row wise\n",
    "print(r6)"
   ]
  },
  {
   "cell_type": "code",
   "execution_count": null,
   "id": "6c311222-b1fa-40ce-93ad-d1d31d2c1d1d",
   "metadata": {},
   "outputs": [],
   "source": [
    "5) np.where()\n",
    "\n",
    "## return index position for the matching conditons\n"
   ]
  },
  {
   "cell_type": "code",
   "execution_count": 63,
   "id": "28e17583-74ed-45df-8719-b86ec9deb34e",
   "metadata": {},
   "outputs": [
    {
     "name": "stdout",
     "output_type": "stream",
     "text": [
      "[12 14  7 79 32 45 28  4 17]\n"
     ]
    }
   ],
   "source": [
    "p1 = np.array([12,14,7,79,32,45,28,4,17])\n",
    "print(p1)"
   ]
  },
  {
   "cell_type": "code",
   "execution_count": 67,
   "id": "ca077fb7-74f3-4239-a249-e73eedcbe0f6",
   "metadata": {},
   "outputs": [
    {
     "name": "stdout",
     "output_type": "stream",
     "text": [
      "(array([0, 5], dtype=int64),)\n",
      "[12 45]\n"
     ]
    }
   ],
   "source": [
    "n2 = np.where(p1%3==0)\n",
    "print(n2)\n",
    "print(p1[np.where(p1%3==0)])"
   ]
  },
  {
   "cell_type": "code",
   "execution_count": 69,
   "id": "c3b71a72-19d2-4c7c-9c37-849246c8dd70",
   "metadata": {},
   "outputs": [
    {
     "name": "stdout",
     "output_type": "stream",
     "text": [
      "[12 14  7 79 32 45 28  4 17]\n",
      "(array([0, 1, 2, 7, 8], dtype=int64),)\n",
      "[12 14  7  4 17]\n"
     ]
    }
   ],
   "source": [
    "print(p1)\n",
    "print(np.where(p1<20))\n",
    "print(p1[np.where(p1<20)])"
   ]
  },
  {
   "cell_type": "markdown",
   "id": "71375d53-5156-4054-b8aa-c07dfe3d912c",
   "metadata": {},
   "source": [
    "### using np.where() with 3 parameters\n",
    "indx is not return with this approach, rather array elements are modified according to the criteria"
   ]
  },
  {
   "cell_type": "code",
   "execution_count": 71,
   "id": "f221df96-3d9e-4008-bee0-2f1949df378d",
   "metadata": {},
   "outputs": [
    {
     "name": "stdout",
     "output_type": "stream",
     "text": [
      "[12 14  7 79 32 45 28  4 17]\n",
      "[ 17  19  12 158  64  90  56   9  22]\n",
      "[22 24  0 72 42 38 38 14 10]\n"
     ]
    }
   ],
   "source": [
    "print(p1)\n",
    "t1 = np.where(p1<20, p1+5, p1*2)        # if p1<20, then add 5 to those values, else multiply them by 2\n",
    "print(t1)\n",
    "t2 = np.where(p1%2==0, p1+10, p1-7)    # if p1%2==0, then add 10 to those values, else subtract 7 from them\n",
    "print(t2)"
   ]
  },
  {
   "cell_type": "code",
   "execution_count": 75,
   "id": "1337e28e-55af-47b6-9d49-ed8918991b70",
   "metadata": {},
   "outputs": [
    {
     "name": "stdout",
     "output_type": "stream",
     "text": [
      "[[ 1  2  7]\n",
      " [ 3  4 -8]\n",
      " [ 5  6  0]]\n"
     ]
    }
   ],
   "source": [
    "w1 =np.array([[1,2,7],[3,4,-8],[5,6,0]])\n",
    "print(w1)"
   ]
  },
  {
   "cell_type": "code",
   "execution_count": 80,
   "id": "d240535c-7d03-4fd4-9127-d129cb9d3d73",
   "metadata": {},
   "outputs": [
    {
     "name": "stdout",
     "output_type": "stream",
     "text": [
      "(array([0, 1, 1, 2, 2], dtype=int64), array([1, 1, 2, 1, 2], dtype=int64))\n",
      "[ 2  4 -8  6  0]\n"
     ]
    }
   ],
   "source": [
    "print(np.where(w1%2==0))\n",
    "print(w1[np.where(w1%2==0)])"
   ]
  },
  {
   "cell_type": "markdown",
   "id": "e34f47df-fce4-42f8-990f-912da221b9e7",
   "metadata": {},
   "source": [
    "6) np.extract()\n",
    "\n",
    "## directly returns the values on which condition are applied , using the second parameter as array name."
   ]
  },
  {
   "cell_type": "code",
   "execution_count": 82,
   "id": "6a60b463-69ec-4bb3-99cc-c358885088ac",
   "metadata": {},
   "outputs": [
    {
     "name": "stdout",
     "output_type": "stream",
     "text": [
      "[12 14  7 79 32 45 28  4 17]\n"
     ]
    }
   ],
   "source": [
    "print(p1)"
   ]
  },
  {
   "cell_type": "code",
   "execution_count": 84,
   "id": "d4813b91-2f6c-4382-ae2e-3f9ec8b812cf",
   "metadata": {},
   "outputs": [
    {
     "name": "stdout",
     "output_type": "stream",
     "text": [
      "[12 14  7 79 32 45 28  4 17]\n",
      "[79 32 45 28]\n",
      "[14  7 79 32 28  4 17]\n"
     ]
    }
   ],
   "source": [
    "print(p1)\n",
    "t1 = np.extract(p1>20,p1)\n",
    "print(t1)\n",
    "t2 = np.extract(p1%3!=0,p1)\n",
    "print(t2)"
   ]
  },
  {
   "cell_type": "code",
   "execution_count": 86,
   "id": "7b95342e-7181-4a38-9fd2-5c7e2921caec",
   "metadata": {},
   "outputs": [
    {
     "name": "stdout",
     "output_type": "stream",
     "text": [
      "[[ 1  2  7]\n",
      " [ 3  4  8]\n",
      " [ 5  6 13]]\n"
     ]
    }
   ],
   "source": [
    "w1 = np.array([[1,2,7],[3,4,8],[5,6,13]])\n",
    "print(w1)"
   ]
  },
  {
   "cell_type": "code",
   "execution_count": 88,
   "id": "da2871fc-269c-40a9-95c4-826235c27894",
   "metadata": {},
   "outputs": [
    {
     "name": "stdout",
     "output_type": "stream",
     "text": [
      "[2 4 8 6]\n"
     ]
    }
   ],
   "source": [
    "res = np.extract(w1%2==0,w1)\n",
    "print(res)"
   ]
  },
  {
   "cell_type": "code",
   "execution_count": null,
   "id": "6341c904-e807-496e-962a-caa05da3f130",
   "metadata": {},
   "outputs": [],
   "source": []
  }
 ],
 "metadata": {
  "kernelspec": {
   "display_name": "Python 3 (ipykernel)",
   "language": "python",
   "name": "python3"
  },
  "language_info": {
   "codemirror_mode": {
    "name": "ipython",
    "version": 3
   },
   "file_extension": ".py",
   "mimetype": "text/x-python",
   "name": "python",
   "nbconvert_exporter": "python",
   "pygments_lexer": "ipython3",
   "version": "3.12.4"
  }
 },
 "nbformat": 4,
 "nbformat_minor": 5
}
