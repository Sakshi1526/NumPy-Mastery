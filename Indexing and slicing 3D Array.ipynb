{
 "cells": [
  {
   "cell_type": "markdown",
   "id": "e13baaed-f8b7-41be-972e-29e7a746028c",
   "metadata": {},
   "source": [
    "Array Indexing"
   ]
  },
  {
   "cell_type": "code",
   "execution_count": 2,
   "id": "582a0931-eb7d-4340-b6ed-d3fdf6a112a3",
   "metadata": {},
   "outputs": [],
   "source": [
    "import numpy as np"
   ]
  },
  {
   "cell_type": "code",
   "execution_count": 4,
   "id": "0b05ffd8-5fd8-4bc6-abce-d1d6d59edfe1",
   "metadata": {},
   "outputs": [
    {
     "name": "stdout",
     "output_type": "stream",
     "text": [
      "[[[ 0  1  2  3]\n",
      "  [ 4  5  6  7]\n",
      "  [ 8  9 10 11]\n",
      "  [12 13 14 15]]\n",
      "\n",
      " [[16 17 18 19]\n",
      "  [20 21 22 23]\n",
      "  [24 25 26 27]\n",
      "  [28 29 30 31]]]\n",
      "int32\n",
      "(2, 4, 4)\n",
      "32\n",
      "3\n"
     ]
    }
   ],
   "source": [
    "a = np.arange(32).reshape(2,4,4) # 3rd dim (grp) = 2, row = 4 , col = 4\n",
    "print(a)\n",
    "print(a.dtype)\n",
    "print(a.shape)\n",
    "print(a.size)\n",
    "print(a.ndim)\n"
   ]
  },
  {
   "cell_type": "markdown",
   "id": "a393071e-578f-4f97-baf2-dff528b86756",
   "metadata": {},
   "source": [
    "Note\n",
    "1) top to bottom, we have positive row indexes. <br>\n",
    "2) bottom to top, we have negative row indexes. <br>\n",
    "3) left to right , we have positive column indexes. <br>\n",
    "4) right to left , we have psoitive column indexes. <br>"
   ]
  },
  {
   "cell_type": "code",
   "execution_count": 10,
   "id": "92363d5d-4908-47db-b408-e32e685693ed",
   "metadata": {},
   "outputs": [
    {
     "name": "stdout",
     "output_type": "stream",
     "text": [
      "[[[ 0  1  2  3]\n",
      "  [ 4  5  6  7]\n",
      "  [ 8  9 10 11]\n",
      "  [12 13 14 15]]\n",
      "\n",
      " [[16 17 18 19]\n",
      "  [20 21 22 23]\n",
      "  [24 25 26 27]\n",
      "  [28 29 30 31]]]\n",
      "[[ 0  1  2  3]\n",
      " [ 4  5  6  7]\n",
      " [ 8  9 10 11]\n",
      " [12 13 14 15]]\n",
      "[24 25 26 27]\n",
      "25\n",
      "26\n",
      "3\n",
      "30\n"
     ]
    }
   ],
   "source": [
    "print(a)\n",
    "print(a[-2])      # grp-idx = -2\n",
    "print(a[-1][-2])      # grp_idx = -1, row-idx = -2   \n",
    "print(a[-1][-2][-3])      # grp-idx = -1, row-idx = -2 , col-idx = -3 \n",
    "print(a[-1,2,2])         # grp-idx = -1, row-idx = 2, col-idx = 2\n",
    "print(a[-2][0][-1])     # grp-idx = -2, row-idx = 0, col-idx = -1 \n",
    "print(a[-1,3,2])       # grp-idx =1 , row-idx = 3, col-idx = 2"
   ]
  },
  {
   "cell_type": "markdown",
   "id": "497e30b9-713c-4581-9997-01a46df63a4c",
   "metadata": {},
   "source": [
    "3D Slicing \n",
    "Syntax \n",
    "s[start-grp : end-grp : step-grp, start-r : end-r: step-r : start-c : end-c : step-c]"
   ]
  },
  {
   "cell_type": "code",
   "execution_count": 13,
   "id": "67cfb661-e2bb-47b7-83d9-4fa090310f99",
   "metadata": {},
   "outputs": [
    {
     "name": "stdout",
     "output_type": "stream",
     "text": [
      "[[[22 23]\n",
      "  [26 27]\n",
      "  [30 31]]]\n",
      "[[[16 17]\n",
      "  [20 21]]]\n",
      "[[[13 14 15]]]\n"
     ]
    }
   ],
   "source": [
    "print(a[1:,1:,2:])  # start-grp = 1, start-r =1 , start-c = 2\n",
    "print(a[1:,:2,:2])   # start-grp = 1, end-r = 2, end-c = 2\n",
    "print(a[0:1,3:,1:]) # start-grp = 0, end-grp = 1, start-r = 3, start-c = 1"
   ]
  },
  {
   "cell_type": "code",
   "execution_count": 15,
   "id": "39ddd17a-a180-4c97-9ff1-9429a9eb3a74",
   "metadata": {},
   "outputs": [
    {
     "name": "stdout",
     "output_type": "stream",
     "text": [
      "[[[ 4  5]\n",
      "  [12 13]]\n",
      "\n",
      " [[20 21]\n",
      "  [28 29]]]\n"
     ]
    }
   ],
   "source": [
    "print(a[0:,1::2,:2])  # start-grp = 0, start-r = 1, step-r = 2, end-c = 2"
   ]
  },
  {
   "cell_type": "code",
   "execution_count": 19,
   "id": "1fa282e2-81bc-40a2-af44-a4a34fcbad95",
   "metadata": {},
   "outputs": [
    {
     "name": "stdout",
     "output_type": "stream",
     "text": [
      "[[[20 21]\n",
      "  [28 29]]]\n",
      "[[[16 17 18 19]\n",
      "  [20 21 22 23]\n",
      "  [24 25 26 27]\n",
      "  [28 29 30 31]]]\n",
      "[[[ 0  1  2  3]\n",
      "  [ 4  5  6  7]\n",
      "  [ 8  9 10 11]\n",
      "  [12 13 14 15]]]\n"
     ]
    }
   ],
   "source": [
    "print(a[1:,1::2,:2])   # start-grp = 1, start-r = 1, step-r = 2, end-c =2\n",
    "print(a[-1:,:,:])  #start-grp= -1\n",
    "print(a[:-1,:,:])   # end-grp =-1"
   ]
  },
  {
   "cell_type": "code",
   "execution_count": 21,
   "id": "43799a94-3781-4fb5-af74-824aaf40d296",
   "metadata": {},
   "outputs": [
    {
     "name": "stdout",
     "output_type": "stream",
     "text": [
      "[[[11  9]\n",
      "  [ 3  1]]\n",
      "\n",
      " [[27 25]\n",
      "  [19 17]]]\n",
      "[[[15 13]\n",
      "  [ 3  1]]\n",
      "\n",
      " [[31 29]\n",
      "  [19 17]]]\n"
     ]
    }
   ],
   "source": [
    "print(a[-2:,-2::-2,-1::-2]) # start-grp = -2, start-r = -2, step-r = -2, start-c = -1, step-c =-2\n",
    "print(a[-2:,-1::-3,-1::-2]) # start-grp = -2, start-r = -1, step-r = -3, start-c =-1, step-c = -2"
   ]
  },
  {
   "cell_type": "code",
   "execution_count": 23,
   "id": "ad878ee2-e5e6-4e54-abe0-e967f5b891cd",
   "metadata": {},
   "outputs": [
    {
     "name": "stdout",
     "output_type": "stream",
     "text": [
      "[[[13 14]\n",
      "  [ 5  6]]\n",
      "\n",
      " [[29 30]\n",
      "  [21 22]]]\n",
      "[[[ 0  2]\n",
      "  [12 14]]\n",
      "\n",
      " [[16 18]\n",
      "  [28 30]]]\n",
      "[[[ 1  3]\n",
      "  [13 15]]\n",
      "\n",
      " [[17 19]\n",
      "  [29 31]]]\n",
      "[[ 5  9]\n",
      " [21 25]]\n"
     ]
    }
   ],
   "source": [
    "print(a[-2:,-1::-2,1:3]) # start-grp = -2, start-r = -1, step-r = -2, start-c = 1, end-c =3\n",
    "print(a[:,::3,::2]) # step-r = 3, step-c = 2\n",
    "print(a[-2::,-4::3,-3::2]) # start-grp = -2, start-r = -4, step-r = 3, start-c = -3, step-c = 2\n",
    "print(a[-2::,-3:-1,1])  # start-grp = -2, start-r = -3, end-r = -1, start-c = 1"
   ]
  },
  {
   "cell_type": "code",
   "execution_count": 29,
   "id": "73f7f89f-4eba-4d75-90bc-b27bab227173",
   "metadata": {},
   "outputs": [
    {
     "name": "stdout",
     "output_type": "stream",
     "text": [
      "[[[27 25]\n",
      "  [23 21]]\n",
      "\n",
      " [[11  9]\n",
      "  [ 7  5]]]\n",
      "[[[16 19]\n",
      "  [28 31]]\n",
      "\n",
      " [[ 0  3]\n",
      "  [12 15]]]\n"
     ]
    }
   ],
   "source": [
    "print(a[::-1,-2:-4:-1,-1::-2])  # step-grp = -1, start-r = -2, end-r = -4, step-r = -1, start-c = -1, step-c = -2\n",
    "print(a[::-1,0::3,0::3]) "
   ]
  },
  {
   "cell_type": "code",
   "execution_count": 35,
   "id": "35f91da9-400c-4b9a-bb06-8cf4768ec549",
   "metadata": {},
   "outputs": [
    {
     "name": "stdout",
     "output_type": "stream",
     "text": [
      "[ 5  3  9 14]\n",
      "[ 6 24 13 18]\n",
      "[ 0  5 10 14 25]\n"
     ]
    }
   ],
   "source": [
    "print(a[[0,0,0,0],[1,0,2,3],[1,3,1,2]])\n",
    "print(a[[0,1,0,1],[1,2,3,0],[2,0,1,2]])\n",
    "print(a[[0,0,0,0,1],[0,1,2,3,2],[0,1,2,2,1]])"
   ]
  },
  {
   "cell_type": "code",
   "execution_count": null,
   "id": "a1065f66-612a-4bba-b1e2-0c5629a359f5",
   "metadata": {},
   "outputs": [],
   "source": []
  }
 ],
 "metadata": {
  "kernelspec": {
   "display_name": "Python 3 (ipykernel)",
   "language": "python",
   "name": "python3"
  },
  "language_info": {
   "codemirror_mode": {
    "name": "ipython",
    "version": 3
   },
   "file_extension": ".py",
   "mimetype": "text/x-python",
   "name": "python",
   "nbconvert_exporter": "python",
   "pygments_lexer": "ipython3",
   "version": "3.12.4"
  }
 },
 "nbformat": 4,
 "nbformat_minor": 5
}
