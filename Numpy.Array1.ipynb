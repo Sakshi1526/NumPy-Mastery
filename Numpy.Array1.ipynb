{
 "cells": [
  {
   "cell_type": "code",
   "execution_count": 4,
   "id": "5ba4940e-8c2e-4fbc-8fe6-601ccc183fb5",
   "metadata": {},
   "outputs": [],
   "source": [
    "import numpy as np"
   ]
  },
  {
   "cell_type": "markdown",
   "id": "4e3a95a5-d9c5-477d-a567-60506245c8bb",
   "metadata": {},
   "source": [
    "Numpy Array "
   ]
  },
  {
   "cell_type": "code",
   "execution_count": 64,
   "id": "a0f63e66-9964-400b-aa59-76f21759761a",
   "metadata": {},
   "outputs": [
    {
     "name": "stdout",
     "output_type": "stream",
     "text": [
      "[3 4 4 6 7]\n",
      "<class 'numpy.ndarray'>\n"
     ]
    }
   ],
   "source": [
    "# craeting numpy array using a list\n",
    "\n",
    "n1 = np.array([3,4,4,6,7])\n",
    "print(n1)\n",
    "print(type(n1))"
   ]
  },
  {
   "cell_type": "code",
   "execution_count": 12,
   "id": "157d2966-4d33-4b34-8c7a-14adb4e71c91",
   "metadata": {
    "collapsed": true,
    "jupyter": {
     "outputs_hidden": true
    },
    "scrolled": true
   },
   "outputs": [
    {
     "name": "stdout",
     "output_type": "stream",
     "text": [
      "[1 2 3 4 5]\n",
      "<class 'numpy.ndarray'>\n",
      "[2 3 5]\n",
      "<class 'numpy.ndarray'>\n"
     ]
    }
   ],
   "source": [
    "# craeting numpy array using a list a tuple\n",
    "\n",
    "a1 = [1,2,3,4,5]\n",
    "a2 = (2,3,5)\n",
    "s1 = np.array(a1)\n",
    "s2 = np.array(a2)\n",
    "print(s1)\n",
    "print(type(s1))\n",
    "print(s2)\n",
    "print(type(s2))\n"
   ]
  },
  {
   "cell_type": "code",
   "execution_count": 22,
   "id": "a3e88621-fb1c-486f-b097-dbbda78926cc",
   "metadata": {},
   "outputs": [
    {
     "name": "stdout",
     "output_type": "stream",
     "text": [
      "15\n",
      "dtype : int32\n",
      "size : 1\n",
      "shape : ()\n",
      "ndim : 0\n"
     ]
    }
   ],
   "source": [
    "# properties or attributes\n",
    "\n",
    "s0 = np.array(15)   # scaler\n",
    "print(s0)\n",
    "print(\"dtype :\", s0.dtype)   # datatype\n",
    "print(\"size :\", s0.size)  # number of elements\n",
    "print(\"shape :\",s0.shape)  # ()\n",
    "print(\"ndim :\",s0.ndim)  # 0\n"
   ]
  },
  {
   "cell_type": "code",
   "execution_count": 24,
   "id": "1cf9282a-6cce-4ca7-b39d-8554b63e3a66",
   "metadata": {},
   "outputs": [
    {
     "name": "stdout",
     "output_type": "stream",
     "text": [
      "[2]\n",
      "dtype : int32\n",
      "size : 1\n",
      "shape : (1,)\n",
      "ndim : 1\n"
     ]
    }
   ],
   "source": [
    "s0 = np.array([2])   # scaler\n",
    "print(s0)\n",
    "print(\"dtype :\", s0.dtype)   # datatype\n",
    "print(\"size :\", s0.size)  # number of elements\n",
    "print(\"shape :\",s0.shape)  # (1,)\n",
    "print(\"ndim :\",s0.ndim)  # 1\n",
    "\n"
   ]
  },
  {
   "cell_type": "code",
   "execution_count": 26,
   "id": "f135a868-010d-4c99-bb63-fb7b2fc565ee",
   "metadata": {},
   "outputs": [
    {
     "name": "stdout",
     "output_type": "stream",
     "text": [
      "[2 3 4 5 6 6 7]\n",
      "dtype : int32\n",
      "size : 7\n",
      "shape : (7,)\n",
      "ndim : 1\n"
     ]
    }
   ],
   "source": [
    "s0 = np.array([2,3,4,5,6,6,7])   # scaler\n",
    "print(s0)\n",
    "print(\"dtype :\", s0.dtype)   # datatype\n",
    "print(\"size :\", s0.size)  \n",
    "print(\"shape :\",s0.shape)  \n",
    "print(\"ndim :\",s0.ndim)  "
   ]
  },
  {
   "cell_type": "code",
   "execution_count": 30,
   "id": "05c4c265-15ba-4a5e-afc5-99950a401bcb",
   "metadata": {},
   "outputs": [
    {
     "name": "stdout",
     "output_type": "stream",
     "text": [
      "[[23, 67, 45], [56, 99, 85]]\n",
      "[[23 67 45]\n",
      " [56 99 85]]\n",
      "dtype : int32\n",
      "size : 6\n",
      "shape : (2, 3)\n",
      "ndim : 2\n"
     ]
    }
   ],
   "source": [
    "r = [[23,67,45],[56,99,85]]\n",
    "print(r)\n",
    "\n",
    "s1 = np.array(r)   \n",
    "print(s1)\n",
    "print(\"dtype :\", s1.dtype)   # int32\n",
    "print(\"size :\", s1.size)   # 6 \n",
    "print(\"shape :\",s1.shape)  # 2 rows and 3 columns\n",
    "print(\"ndim :\",s1.ndim)  # 2"
   ]
  },
  {
   "cell_type": "code",
   "execution_count": 34,
   "id": "9ac789f9-107f-422b-9e09-49133f9d909d",
   "metadata": {},
   "outputs": [
    {
     "name": "stdout",
     "output_type": "stream",
     "text": [
      "[[[ 1  2  3]\n",
      "  [ 4  5  6]]\n",
      "\n",
      " [[ 6  7  9]\n",
      "  [ 9  5 10]]]\n",
      "dtype : int32\n",
      "size : 12\n",
      "shape : (2, 2, 3)\n",
      "ndim : 3\n"
     ]
    }
   ],
   "source": [
    "s1 = np.array([[[1,2,3],[4,5,6]],[[6,7,9],[9,5,10]]])   \n",
    "print(s1)\n",
    "print(\"dtype :\", s1.dtype)   # int32\n",
    "print(\"size :\", s1.size)   # 12\n",
    "print(\"shape :\",s1.shape)  # 2 group, 2 rows and 3 columns\n",
    "print(\"ndim :\",s1.ndim)"
   ]
  },
  {
   "cell_type": "markdown",
   "id": "15385e23-03d2-4e3a-a881-ec7347e9ea38",
   "metadata": {},
   "source": [
    "Numpy Arange"
   ]
  },
  {
   "cell_type": "code",
   "execution_count": 38,
   "id": "92ed1c5d-2c85-4bf7-bbff-c5ba7260299a",
   "metadata": {},
   "outputs": [
    {
     "name": "stdout",
     "output_type": "stream",
     "text": [
      "[10 11 12 13 14 15 16 17 18 19]\n",
      "dtype : int32\n",
      "size : 10\n",
      "shape : (10,)\n",
      "ndim : 1\n"
     ]
    }
   ],
   "source": [
    "d1 = np.arange(10,20) # start = 10 , end = 20 , step =m +1 ...like range function\n",
    "print(d1)\n",
    "print(\"dtype :\", d1.dtype)   # int32\n",
    "print(\"size :\", d1.size)   # 10\n",
    "print(\"shape :\",d1.shape)  # 10,\n",
    "print(\"ndim :\",d1.ndim) # 1"
   ]
  },
  {
   "cell_type": "markdown",
   "id": "7f49e2aa-054f-476a-b97c-5b5c6413c00e",
   "metadata": {},
   "source": [
    "d2 = np.arange(5,25,4) # start = 5, end = 25 , step = +4\n",
    "print(d2)\n",
    "d3 = np.arange(30,10,-5) # start = 30, end = 10 , step = -5\n",
    "print(d3)"
   ]
  },
  {
   "cell_type": "markdown",
   "id": "b8adee6d-e128-4197-a461-42f3d271a351",
   "metadata": {},
   "source": [
    "Numppy Zeros - Generate an array of zeros"
   ]
  },
  {
   "cell_type": "code",
   "execution_count": 46,
   "id": "84ff5b0b-670f-4f10-98aa-657bb7cef8fd",
   "metadata": {},
   "outputs": [
    {
     "name": "stdout",
     "output_type": "stream",
     "text": [
      "[[0. 0. 0. 0.]\n",
      " [0. 0. 0. 0.]\n",
      " [0. 0. 0. 0.]]\n",
      "dtype : float64\n",
      "size : 12\n",
      "shape : (3, 4)\n",
      "ndim : 2\n"
     ]
    }
   ],
   "source": [
    "w1 = np.zeros((3,4))   # 3rows and 4 cols\n",
    "print(w1)\n",
    "print(\"dtype :\", w1.dtype)   # float64\n",
    "print(\"size :\", w1.size)   # 12\n",
    "print(\"shape :\",w1.shape)  # 3,4\n",
    "print(\"ndim :\",w1.ndim) # 2\n"
   ]
  },
  {
   "cell_type": "code",
   "execution_count": 48,
   "id": "e7f7a528-b6fd-4490-a75e-300961d20d01",
   "metadata": {},
   "outputs": [
    {
     "name": "stdout",
     "output_type": "stream",
     "text": [
      "[[0 0]\n",
      " [0 0]\n",
      " [0 0]\n",
      " [0 0]]\n"
     ]
    }
   ],
   "source": [
    "w2 = np.zeros([4,2], dtype = \"int\")\n",
    "print(w2)"
   ]
  },
  {
   "cell_type": "code",
   "execution_count": 50,
   "id": "afbf65b7-4815-42b2-857a-ad5f6bf079d8",
   "metadata": {},
   "outputs": [
    {
     "name": "stdout",
     "output_type": "stream",
     "text": [
      "[0 0 0 0 0 0 0]\n",
      "dtype : int32\n",
      "size : 7\n",
      "shape : (7,)\n",
      "ndim : 1\n"
     ]
    }
   ],
   "source": [
    "w2 = np.zeros((7), dtype = \"int\")\n",
    "print(w2)\n",
    "print(\"dtype :\", w2.dtype)   # int32\n",
    "print(\"size :\", w2.size)   # 7\n",
    "print(\"shape :\",w2.shape)  # 7,\n",
    "print(\"ndim :\",w2.ndim) # 1\n"
   ]
  },
  {
   "cell_type": "markdown",
   "id": "a4a82ef3-2feb-4558-87cd-324a8282330a",
   "metadata": {},
   "source": [
    "Numpy ones - genrate an array of ones"
   ]
  },
  {
   "cell_type": "code",
   "execution_count": 5,
   "id": "75abe566-4959-46a5-820e-1935ebffafad",
   "metadata": {},
   "outputs": [
    {
     "name": "stdout",
     "output_type": "stream",
     "text": [
      "[[1 1 1 1 1]\n",
      " [1 1 1 1 1]\n",
      " [1 1 1 1 1]\n",
      " [1 1 1 1 1]]\n",
      "dtype : int32\n",
      "size : 20\n",
      "shape : (4, 5)\n",
      "ndim : 2\n"
     ]
    }
   ],
   "source": [
    "G1 = np.ones((4,5), dtype = \"int\")\n",
    "print(G1)\n",
    "print(\"dtype :\", G1.dtype)   # int32\n",
    "print(\"size :\", G1.size)   # 20\n",
    "print(\"shape :\",G1.shape)  # 4,5\n",
    "print(\"ndim :\",G1.ndim) # 2\n"
   ]
  },
  {
   "cell_type": "code",
   "execution_count": 6,
   "id": "456bbf14-7614-4bac-9d41-849571006848",
   "metadata": {},
   "outputs": [
    {
     "name": "stdout",
     "output_type": "stream",
     "text": [
      "[[1. 1. 1.]\n",
      " [1. 1. 1.]]\n"
     ]
    }
   ],
   "source": [
    "G2 = np.ones((2,3), dtype = \"float\")\n",
    "print(G2)"
   ]
  },
  {
   "cell_type": "markdown",
   "id": "999bc27f-8f9d-4952-9de9-8bfeab575339",
   "metadata": {},
   "source": [
    "Reshape() and shape property\n",
    "array can be reshaped into its products of its factors"
   ]
  },
  {
   "cell_type": "code",
   "execution_count": 66,
   "id": "b3531cbe-cb29-4faa-bafe-9f1d6d50ca78",
   "metadata": {},
   "outputs": [
    {
     "name": "stdout",
     "output_type": "stream",
     "text": [
      "[ 2  3  3  5  6  3  8  2  9  4  8 10]\n",
      "dtype : int32\n",
      "size : 12\n",
      "shape : (12,)\n",
      "ndim : 1\n"
     ]
    }
   ],
   "source": [
    "b1 = np.array([2,3,3,5,6,3,8,2,9,4,8,10])\n",
    "print(b1)\n",
    "print(\"dtype :\", b1.dtype)   # int32\n",
    "print(\"size :\", b1.size)   # 12\n",
    "print(\"shape :\",b1.shape)  # 12,\n",
    "print(\"ndim :\",b1.ndim) # 1\n",
    "# factors of 12 - 1,2,3,4,6,12\n",
    "# pairs = (3,4)(4,3)(6,2)(2,6)(12,1)(1,12)_"
   ]
  },
  {
   "cell_type": "code",
   "execution_count": 70,
   "id": "d71e2f61-2dea-44ee-9b9f-3bce2e92cea2",
   "metadata": {},
   "outputs": [
    {
     "name": "stdout",
     "output_type": "stream",
     "text": [
      "[[ 2  3  3  5]\n",
      " [ 6  3  8  2]\n",
      " [ 9  4  8 10]]\n",
      "dtype : int32\n",
      "size : 12\n",
      "shape : (3, 4)\n",
      "ndim : 2\n"
     ]
    }
   ],
   "source": [
    "b1 = np.array([2,3,3,5,6,3,8,2,9,4,8,10]).reshape(3,4)  # rows 3 and cols 4\n",
    "print(b1)\n",
    "print(\"dtype :\", b1.dtype)   # int32\n",
    "print(\"size :\", b1.size)   # 12\n",
    "print(\"shape :\",b1.shape)  # 3,4\n",
    "print(\"ndim :\",b1.ndim) # 2"
   ]
  },
  {
   "cell_type": "code",
   "execution_count": 80,
   "id": "ef304cd8-deae-4931-a11e-d932c46223e7",
   "metadata": {},
   "outputs": [
    {
     "name": "stdout",
     "output_type": "stream",
     "text": [
      "[[ 2  3  3  5  6  3]\n",
      " [ 8  2  9  4  8 10]]\n"
     ]
    }
   ],
   "source": [
    "print(b1.reshape(2,6))"
   ]
  },
  {
   "cell_type": "code",
   "execution_count": 82,
   "id": "d4c3a3b5-123f-4b19-81e2-e1c070dc2e23",
   "metadata": {},
   "outputs": [
    {
     "name": "stdout",
     "output_type": "stream",
     "text": [
      "[[ 2  3  3  5]\n",
      " [ 6  3  8  2]\n",
      " [ 9  4  8 10]]\n",
      "(3, 4)\n"
     ]
    }
   ],
   "source": [
    "print(b1)\n",
    "print(b1.shape)"
   ]
  },
  {
   "cell_type": "code",
   "execution_count": 84,
   "id": "22e22a69-a9f1-460d-9c9f-223e5401deb7",
   "metadata": {},
   "outputs": [
    {
     "name": "stdout",
     "output_type": "stream",
     "text": [
      "[[ 1  2  3]\n",
      " [ 4  5  6]\n",
      " [ 7  8  9]\n",
      " [10 11 12]\n",
      " [13 14 15]\n",
      " [16 17 18]]\n",
      "(6, 3)\n"
     ]
    }
   ],
   "source": [
    "b2 = np.arange(1,19).reshape(6,3)\n",
    "print(b2)\n",
    "print(b2.shape)"
   ]
  },
  {
   "cell_type": "code",
   "execution_count": 88,
   "id": "e4770009-692c-421c-96d9-57e59beca95a",
   "metadata": {},
   "outputs": [
    {
     "data": {
      "text/plain": [
       "array([[[ 1,  2,  3],\n",
       "        [ 4,  5,  6],\n",
       "        [ 7,  8,  9]],\n",
       "\n",
       "       [[10, 11, 12],\n",
       "        [13, 14, 15],\n",
       "        [16, 17, 18]]])"
      ]
     },
     "execution_count": 88,
     "metadata": {},
     "output_type": "execute_result"
    }
   ],
   "source": [
    "b2.reshape(2,3,3)  # 3rd dim 3 rows 3 cols"
   ]
  },
  {
   "cell_type": "code",
   "execution_count": 94,
   "id": "c50e49ba-dfb9-4d21-b601-0159242feae9",
   "metadata": {},
   "outputs": [
    {
     "name": "stdout",
     "output_type": "stream",
     "text": [
      "(6, 3)\n"
     ]
    }
   ],
   "source": [
    "print(b2.shape)"
   ]
  },
  {
   "cell_type": "code",
   "execution_count": 98,
   "id": "f7db1ff1-79e5-4fab-a4c0-1d673ef958cf",
   "metadata": {},
   "outputs": [
    {
     "name": "stdout",
     "output_type": "stream",
     "text": [
      "[[ 1  2]\n",
      " [ 3  4]\n",
      " [ 5  6]\n",
      " [ 7  8]\n",
      " [ 9 10]\n",
      " [11 12]\n",
      " [13 14]\n",
      " [15 16]\n",
      " [17 18]]\n",
      "(9, 2)\n",
      "(6, 3)\n"
     ]
    }
   ],
   "source": [
    "h1 = b2.reshape(9,2)\n",
    "print(h1)\n",
    "print(h1.shape)\n",
    "print(b2.shape)"
   ]
  },
  {
   "cell_type": "code",
   "execution_count": 100,
   "id": "64f0016b-489f-47dd-b6c8-cc30918f5fd6",
   "metadata": {},
   "outputs": [
    {
     "name": "stdout",
     "output_type": "stream",
     "text": [
      "[[[ 1  2  3]\n",
      "  [ 4  5  6]]\n",
      "\n",
      " [[ 7  8  9]\n",
      "  [10 11 12]]\n",
      "\n",
      " [[13 14 15]\n",
      "  [16 17 18]]]\n",
      "(3, 2, 3)\n"
     ]
    }
   ],
   "source": [
    "# reshape an array after its creation\n",
    "\n",
    "b2.shape = (3,2,3)\n",
    "print(b2)\n",
    "print(b2.shape)"
   ]
  },
  {
   "cell_type": "code",
   "execution_count": 103,
   "id": "62ebfbc3-26a6-434b-9279-dca3e1fddb92",
   "metadata": {},
   "outputs": [
    {
     "name": "stdout",
     "output_type": "stream",
     "text": [
      "[[[ 1  2]\n",
      "  [ 3  4]\n",
      "  [ 5  6]]\n",
      "\n",
      " [[ 7  8]\n",
      "  [ 9 10]\n",
      "  [11 12]]\n",
      "\n",
      " [[13 14]\n",
      "  [15 16]\n",
      "  [17 18]]]\n",
      "(3, 3, 2)\n"
     ]
    }
   ],
   "source": [
    "b2.shape = (3,3,2)\n",
    "print(b2)\n",
    "print(b2.shape)"
   ]
  },
  {
   "cell_type": "code",
   "execution_count": 105,
   "id": "2a57d3dc-d116-46bc-936b-088770d1fbb3",
   "metadata": {},
   "outputs": [
    {
     "name": "stdout",
     "output_type": "stream",
     "text": [
      "[[[ 2]\n",
      "  [ 3]\n",
      "  [ 4]\n",
      "  [ 5]]\n",
      "\n",
      " [[ 6]\n",
      "  [ 7]\n",
      "  [ 8]\n",
      "  [ 9]]\n",
      "\n",
      " [[10]\n",
      "  [11]\n",
      "  [12]\n",
      "  [13]]]\n",
      "12\n",
      "(3, 4, 1)\n"
     ]
    }
   ],
   "source": [
    "z1 = np.arange(2,14).reshape(3,4,1)\n",
    "print(z1)\n",
    "print(z1.size)\n",
    "print(z1.shape)"
   ]
  },
  {
   "cell_type": "code",
   "execution_count": null,
   "id": "09eca215-5c4b-4daa-af6e-0da5108303f8",
   "metadata": {},
   "outputs": [],
   "source": []
  }
 ],
 "metadata": {
  "kernelspec": {
   "display_name": "Python 3 (ipykernel)",
   "language": "python",
   "name": "python3"
  },
  "language_info": {
   "codemirror_mode": {
    "name": "ipython",
    "version": 3
   },
   "file_extension": ".py",
   "mimetype": "text/x-python",
   "name": "python",
   "nbconvert_exporter": "python",
   "pygments_lexer": "ipython3",
   "version": "3.12.4"
  }
 },
 "nbformat": 4,
 "nbformat_minor": 5
}
