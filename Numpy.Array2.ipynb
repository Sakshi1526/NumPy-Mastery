{
 "cells": [
  {
   "cell_type": "code",
   "execution_count": 1,
   "id": "e7416bdf-d178-421e-81df-90cccc9c9d9b",
   "metadata": {},
   "outputs": [],
   "source": [
    "import numpy as np"
   ]
  },
  {
   "cell_type": "markdown",
   "id": "fb57fb69-f0f1-46cb-a198-b9a40e6ee9f1",
   "metadata": {},
   "source": [
    "Data type of numpy array is same throughout the array.\n",
    "Elements in a numpy array are homogenous in nature"
   ]
  },
  {
   "cell_type": "code",
   "execution_count": 3,
   "id": "251f2435-9ced-46bd-a2e6-531dd9d5ec19",
   "metadata": {},
   "outputs": [
    {
     "name": "stdout",
     "output_type": "stream",
     "text": [
      "[3.  4.  5.7 6. ]\n",
      "float64\n"
     ]
    }
   ],
   "source": [
    "a1 = np.array([3,4,5.7,6])\n",
    "print(a1)\n",
    "print(a1.dtype)"
   ]
  },
  {
   "cell_type": "code",
   "execution_count": 7,
   "id": "ffdc9a3e-6adb-43f5-b921-989dfac171e7",
   "metadata": {},
   "outputs": [
    {
     "name": "stdout",
     "output_type": "stream",
     "text": [
      "['Hello' '3' '4' '5.7' '6']\n",
      "<class 'numpy.ndarray'>\n",
      "<U32\n"
     ]
    }
   ],
   "source": [
    "a2 = np.array([\"Hello\",3,4,5.7,6])\n",
    "print(a2)\n",
    "print(type(a2))\n",
    "print(a2.dtype)"
   ]
  },
  {
   "cell_type": "markdown",
   "id": "9128652c-486e-44e4-955a-fda993b4deb5",
   "metadata": {},
   "source": [
    "Numpy Broadcasting"
   ]
  },
  {
   "cell_type": "code",
   "execution_count": 9,
   "id": "46e1b44e-844f-48b6-8431-cf814ba6a899",
   "metadata": {},
   "outputs": [
    {
     "name": "stdout",
     "output_type": "stream",
     "text": [
      "a [1. 2. 3.]\n",
      "b [2. 2. 2.]\n",
      "[2. 4. 6.]\n"
     ]
    }
   ],
   "source": [
    "a = np.array([1.0,2.0,3.0])\n",
    "b = np.array([2.0,2.0,2.0])\n",
    "print('a',a)\n",
    "print('b',b)\n",
    "r1 = a * b  # elements wise multiplication\n",
    "print(r1)"
   ]
  },
  {
   "cell_type": "code",
   "execution_count": 13,
   "id": "5786abb9-d41a-4b22-8f11-32e8271d11c5",
   "metadata": {},
   "outputs": [
    {
     "name": "stdout",
     "output_type": "stream",
     "text": [
      "a [3 4 5 6] Dim 1\n",
      "b 2 Dim 0\n",
      "[ 6  8 10 12]\n"
     ]
    }
   ],
   "source": [
    "a = np.array([3,4,5,6])\n",
    "b = np.array(2)\n",
    "print('a',a, 'Dim', a.ndim)\n",
    "print('b',b, 'Dim', b.ndim)\n",
    "r1 = a * b  # elements wise multiplication\n",
    "print(r1)"
   ]
  },
  {
   "cell_type": "markdown",
   "id": "ecb3f1e7-b0f9-45fe-a359-547cf0e0cc37",
   "metadata": {},
   "source": [
    "Broadcasting Rules :\n",
    "1. they are equal , or\n",
    "2. one of them is 1"
   ]
  },
  {
   "cell_type": "code",
   "execution_count": 15,
   "id": "99b0fbda-a511-4c01-adca-7da37a78a9a4",
   "metadata": {},
   "outputs": [
    {
     "name": "stdout",
     "output_type": "stream",
     "text": [
      "a\n",
      " [[1 2 3]\n",
      " [4 5 6]]\n",
      "b 5\n",
      "a*b\n",
      " [[ 5 10 15]\n",
      " [20 25 30]]\n"
     ]
    }
   ],
   "source": [
    "a = np.array([[1,2,3],[4,5,6]])   # ndim = 2\n",
    "b = np.array(5)    # scaler , ndim = 0\n",
    "print('a\\n',a)\n",
    "print('b',b)\n",
    "print('a*b\\n',a*b)"
   ]
  },
  {
   "cell_type": "code",
   "execution_count": 17,
   "id": "1046f337-cea8-47ce-9575-a736783dc096",
   "metadata": {},
   "outputs": [
    {
     "name": "stdout",
     "output_type": "stream",
     "text": [
      "a\n",
      " [[1 2 3]\n",
      " [4 5 6]] Dim 2\n",
      "b [-1  0  1] Dim 1\n",
      "a*b\n",
      " [[-1  0  3]\n",
      " [-4  0  6]]\n"
     ]
    }
   ],
   "source": [
    "a = np.array([[1,2,3],[4,5,6]])   # ndim = 2\n",
    "b = np.array([-1,0,1])    # scaler , ndim = 1\n",
    "print('a\\n',a, 'Dim', a.ndim)\n",
    "print('b',b, 'Dim', b.ndim)\n",
    "print('a*b\\n',a*b)"
   ]
  },
  {
   "cell_type": "code",
   "execution_count": 23,
   "id": "89530679-fc75-4f33-b096-985c605b41e7",
   "metadata": {},
   "outputs": [
    {
     "name": "stdout",
     "output_type": "stream",
     "text": [
      "a\n",
      " [[1 2 3]\n",
      " [4 5 6]] Dim : 2 ,Shape : (2, 3)\n",
      "b [[ 5 -4  2]\n",
      " [-2  3 -1]] Dim : 2 Shape : (2, 3)\n",
      "a*b\n",
      " [[ 5 -8  6]\n",
      " [-8 15 -6]]\n"
     ]
    }
   ],
   "source": [
    "a = np.array([[1,2,3],[4,5,6]])   # ndim = 2\n",
    "b = np.array([[5,-4,2],[-2,3,-1]])    # scaler , ndim = 1\n",
    "print('a\\n',a, 'Dim :', a.ndim, ',Shape :', a.shape)\n",
    "print('b',b, 'Dim :', b.ndim, 'Shape :', b.shape)\n",
    "print('a*b\\n',a*b)"
   ]
  },
  {
   "cell_type": "markdown",
   "id": "239bde64-75b5-4935-b98c-2e7bbb8a2679",
   "metadata": {},
   "source": [
    "np.linspace()\n",
    "Generates linerarly space elements"
   ]
  },
  {
   "cell_type": "code",
   "execution_count": 31,
   "id": "011998f5-0790-48f7-a0d7-3099c0bef019",
   "metadata": {},
   "outputs": [
    {
     "name": "stdout",
     "output_type": "stream",
     "text": [
      "[ 2.  4.  6.  8. 10.]\n",
      "[ 2  6 10]\n",
      "[ 5.   7.5 10.  12.5 15.  17.5 20. ]\n",
      "[ 5  7 10 12 15 17 20]\n"
     ]
    }
   ],
   "source": [
    "z1 = np.linspace(2,10,5) # returing 5 linearly space elements between 2 and 10\n",
    "print(z1)\n",
    "z2 = np.linspace(2,10,3, dtype = 'int') # returing 3 linearly space elements between 2 and 10\n",
    "print(z2)\n",
    "s1 = np.linspace(5,20,7) # returing 7 linearly space elements between 5 and 20\n",
    "print(s1)\n",
    "s1 = np.linspace(5,20,7, dtype = int) # returing 7 linearly space elements between 5 and 20\n",
    "print(s1)\n"
   ]
  },
  {
   "cell_type": "code",
   "execution_count": 35,
   "id": "4a5f6722-68a7-47fb-9f44-4a5f54c9c0cd",
   "metadata": {},
   "outputs": [
    {
     "name": "stdout",
     "output_type": "stream",
     "text": [
      "[ 2.          2.36734694  2.73469388  3.10204082  3.46938776  3.83673469\n",
      "  4.20408163  4.57142857  4.93877551  5.30612245  5.67346939  6.04081633\n",
      "  6.40816327  6.7755102   7.14285714  7.51020408  7.87755102  8.24489796\n",
      "  8.6122449   8.97959184  9.34693878  9.71428571 10.08163265 10.44897959\n",
      " 10.81632653 11.18367347 11.55102041 11.91836735 12.28571429 12.65306122\n",
      " 13.02040816 13.3877551  13.75510204 14.12244898 14.48979592 14.85714286\n",
      " 15.2244898  15.59183673 15.95918367 16.32653061 16.69387755 17.06122449\n",
      " 17.42857143 17.79591837 18.16326531 18.53061224 18.89795918 19.26530612\n",
      " 19.63265306 20.        ]\n",
      "<class 'numpy.ndarray'>\n",
      "50\n"
     ]
    }
   ],
   "source": [
    "z3 = np.linspace(2,20) # start =2, end = 20, defaul num = 50\n",
    "print(z3)\n",
    "print(type(z3))\n",
    "print(len(z3))  # default length"
   ]
  },
  {
   "cell_type": "code",
   "execution_count": 37,
   "id": "925d75db-754e-4b5e-9ed8-5265e97ee1e5",
   "metadata": {},
   "outputs": [
    {
     "name": "stdout",
     "output_type": "stream",
     "text": [
      "(array([ 5. ,  7.5, 10. , 12.5, 15. , 17.5, 20. ]), 2.5)\n"
     ]
    }
   ],
   "source": [
    "w = np.linspace(5,20,7,retstep = True) # display distance of them\n",
    "print(w)"
   ]
  },
  {
   "cell_type": "markdown",
   "id": "20ea5b8f-3881-43b4-bba0-da232f96b5c3",
   "metadata": {},
   "source": [
    "Views vs copy\n",
    "copy()\n",
    "view()"
   ]
  },
  {
   "cell_type": "code",
   "execution_count": 39,
   "id": "58158b26-80c9-4d74-9e9b-ea897667e243",
   "metadata": {},
   "outputs": [
    {
     "name": "stdout",
     "output_type": "stream",
     "text": [
      "a1\n",
      " [1 2 3 4 5]\n",
      "x\n",
      " [1 2 3 4 5]\n",
      "a1\n",
      " [50  2  3  4  5]\n",
      "x\n",
      " [1 2 3 4 5]\n"
     ]
    }
   ],
   "source": [
    "a1 = np.array([1,2,3,4,5])\n",
    "x = a1.copy()\n",
    "print('a1\\n', a1)\n",
    "print('x\\n', x)\n",
    "\n",
    "a1 [0] = 50\n",
    "print('a1\\n', a1)\n",
    "print('x\\n', x)\n",
    "\n"
   ]
  },
  {
   "cell_type": "code",
   "execution_count": 41,
   "id": "175049b4-557c-424e-914b-84f1435ee06e",
   "metadata": {},
   "outputs": [
    {
     "name": "stdout",
     "output_type": "stream",
     "text": [
      "a2\n",
      " [1 2 3 4 5]\n",
      "y\n",
      " [1 2 3 4 5]\n",
      "a2\n",
      " [50  2  3  4  5]\n",
      "y\n",
      " [50  2  3  4  5]\n"
     ]
    }
   ],
   "source": [
    "a2 = np.array([1,2,3,4,5])\n",
    "y = a2.view()\n",
    "print('a2\\n', a2)\n",
    "print('y\\n', y)\n",
    "\n",
    "a2 [0] = 50\n",
    "print('a2\\n', a2)\n",
    "print('y\\n', y)\n"
   ]
  },
  {
   "cell_type": "markdown",
   "id": "e0473bd2-abc9-43a2-823a-debe9c8f9bf1",
   "metadata": {},
   "source": [
    "Numpy Random Numbers"
   ]
  },
  {
   "cell_type": "markdown",
   "id": "e54ff9de-26bc-4029-b9f6-d00c40ce458d",
   "metadata": {},
   "source": [
    "np.random.random()\n",
    "return random float in the half open interval [0.0,1.0]"
   ]
  },
  {
   "cell_type": "markdown",
   "id": "273f151c-1caa-4a8c-84e5-92f47da25bc6",
   "metadata": {},
   "source": [
    "a1 = np.random.random(5) # return 5 random nos betw 0 to 1\n",
    "print(a1)\n",
    "a2 = np.random.random((3,4))\n",
    "print(a2)"
   ]
  },
  {
   "cell_type": "markdown",
   "id": "4c81fead-3b4b-4616-8f6a-5565834a450d",
   "metadata": {},
   "source": [
    "np.random.randint(low,high,size)\n",
    "return random integers from low (inclusive) to high (exclusive)\n",
    "low < high"
   ]
  },
  {
   "cell_type": "code",
   "execution_count": 53,
   "id": "862d5949-76d1-4d22-8663-8af96a0fe936",
   "metadata": {},
   "outputs": [
    {
     "name": "stdout",
     "output_type": "stream",
     "text": [
      "[ 9 11  7  8]\n",
      "[55 80 89 52 69 89 99 78]\n"
     ]
    }
   ],
   "source": [
    "a3 = np.random.randint(3,15,4)\n",
    "print(a3)\n",
    "a4 = np.random.randint(50,100,8)\n",
    "print(a4)\n",
    "# a5 = np.random.randint(20,5,4) # error , low<high\n",
    "# print(a5)"
   ]
  },
  {
   "cell_type": "code",
   "execution_count": 55,
   "id": "bd0d40b9-3a49-4bbf-b3d9-34ce38285531",
   "metadata": {},
   "outputs": [
    {
     "name": "stdout",
     "output_type": "stream",
     "text": [
      "[[21 40 26 18]\n",
      " [36 34 39 21]\n",
      " [27 11 46 18]]\n"
     ]
    }
   ],
   "source": [
    "a5 = np.random.randint(10,50,(3,4))\n",
    "print(a5)\n",
    "# return a np array of shape (3,4) with random elements\n",
    "# in the range (10,50)"
   ]
  },
  {
   "cell_type": "markdown",
   "id": "8037086d-9e0d-483d-b184-83e1230ff94c",
   "metadata": {},
   "source": [
    "np.random.rand()\n",
    "generates random values between (0,1) in the given shape"
   ]
  },
  {
   "cell_type": "code",
   "execution_count": 59,
   "id": "1b9a191f-1320-4d3d-a707-fec4ce399830",
   "metadata": {},
   "outputs": [
    {
     "name": "stdout",
     "output_type": "stream",
     "text": [
      "[0.20772128 0.50739891 0.81736181 0.8864526  0.38899774]\n",
      "[[0.94514457 0.33130538]\n",
      " [0.57697784 0.46444911]\n",
      " [0.81734617 0.56314784]\n",
      " [0.79785748 0.75001182]]\n"
     ]
    }
   ],
   "source": [
    "w1 = np.random.rand(5)\n",
    "print(w1)\n",
    "w2 = np.random.rand(4,2)\n",
    "print(w2)\n",
    "# w3 = np.random.rand((4,2))\n",
    "# print(w3)"
   ]
  },
  {
   "cell_type": "markdown",
   "id": "82c5367d-f3fa-4e10-8963-038dd264e83d",
   "metadata": {},
   "source": [
    " np.random.choice\n",
    " generates a random sample from a given 1 - D array"
   ]
  },
  {
   "cell_type": "code",
   "execution_count": 61,
   "id": "f0728949-75ef-4f3a-92ac-2bb60759033e",
   "metadata": {},
   "outputs": [
    {
     "name": "stdout",
     "output_type": "stream",
     "text": [
      "[ 8 15  8  9]\n"
     ]
    }
   ],
   "source": [
    "f1 = np.random.choice([3,9,15,6,7,8], size = 4)\n",
    "print(f1)"
   ]
  },
  {
   "cell_type": "code",
   "execution_count": 63,
   "id": "3cc012ff-5de1-4545-8735-30da4bd24436",
   "metadata": {},
   "outputs": [
    {
     "name": "stdout",
     "output_type": "stream",
     "text": [
      "[ 3  6  8 12  9 11  3]\n"
     ]
    }
   ],
   "source": [
    "f2 = np.random.choice([3,9,15,6,7,8,13,15,12,11,10], size = 7)\n",
    "print(f2)"
   ]
  },
  {
   "cell_type": "code",
   "execution_count": null,
   "id": "ee2044e9-d1e6-46f9-ad34-9d17b552ed6b",
   "metadata": {},
   "outputs": [],
   "source": []
  }
 ],
 "metadata": {
  "kernelspec": {
   "display_name": "Python 3 (ipykernel)",
   "language": "python",
   "name": "python3"
  },
  "language_info": {
   "codemirror_mode": {
    "name": "ipython",
    "version": 3
   },
   "file_extension": ".py",
   "mimetype": "text/x-python",
   "name": "python",
   "nbconvert_exporter": "python",
   "pygments_lexer": "ipython3",
   "version": "3.12.4"
  }
 },
 "nbformat": 4,
 "nbformat_minor": 5
}
