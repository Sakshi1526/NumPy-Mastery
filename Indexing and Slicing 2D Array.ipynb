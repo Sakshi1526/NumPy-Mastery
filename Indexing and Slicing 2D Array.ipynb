{
 "cells": [
  {
   "cell_type": "markdown",
   "id": "86455ccf-fd03-446e-b157-5394af07c102",
   "metadata": {},
   "source": [
    "### 2D Indexing and slicing"
   ]
  },
  {
   "cell_type": "markdown",
   "id": "7be44d9c-5600-4c56-ac3e-f00ab8d2e09c",
   "metadata": {},
   "source": [
    "# Array Indexing"
   ]
  },
  {
   "cell_type": "code",
   "execution_count": 8,
   "id": "4d3d93f9-b7f4-4a59-9345-cd5271be8758",
   "metadata": {},
   "outputs": [],
   "source": [
    "import numpy as np"
   ]
  },
  {
   "cell_type": "code",
   "execution_count": 10,
   "id": "f20e277b-b2c9-4deb-85fe-4ad69bbb0c5a",
   "metadata": {},
   "outputs": [
    {
     "name": "stdout",
     "output_type": "stream",
     "text": [
      "[[12 15 18]\n",
      " [21 24 26]]\n",
      "15\n",
      "15\n"
     ]
    }
   ],
   "source": [
    "a = np.array([[12,15,18],[21,24,26]])\n",
    "print(a)\n",
    "print(a[0,1])  # row 0, cols 1\n",
    "print(a[0][1])"
   ]
  },
  {
   "cell_type": "code",
   "execution_count": 12,
   "id": "0cb145ac-0fcb-4718-8c43-eabbd96af576",
   "metadata": {},
   "outputs": [
    {
     "name": "stdout",
     "output_type": "stream",
     "text": [
      "[[31 32 33 34]\n",
      " [35 36 37 38]\n",
      " [39 40 41 42]\n",
      " [43 44 45 46]]\n",
      "2\n",
      "(4, 4)\n",
      "16\n",
      "int32\n"
     ]
    }
   ],
   "source": [
    "b = np.array([[31,32,33,34],[35,36,37,38],\n",
    "              [39,40,41,42],[43,44,45,46]])\n",
    "print(b)\n",
    "print(b.ndim)\n",
    "print(b.shape)\n",
    "print(b.size)\n",
    "print(b.dtype)"
   ]
  },
  {
   "cell_type": "code",
   "execution_count": 14,
   "id": "f4c55d59-a576-4b4a-94b3-18cecebb93c5",
   "metadata": {},
   "outputs": [
    {
     "name": "stdout",
     "output_type": "stream",
     "text": [
      "[[31 32 33 34]\n",
      " [35 36 37 38]\n",
      " [39 40 41 42]\n",
      " [43 44 45 46]]\n",
      "39\n",
      "45\n",
      "40 46\n",
      "37 34\n",
      "36 42\n"
     ]
    }
   ],
   "source": [
    "print(b)\n",
    "print(b[2][0])   # row = 2 , cols = 0\n",
    "print(b[-1][-2])\n",
    "print(b[2][-3],b[-1][3])  # r = 2, c= -1,   r= -3, c = 3\n",
    "print(b[1,2],b[0,3])\n",
    "print(b[-3,-3],b[-2,-1])"
   ]
  },
  {
   "cell_type": "markdown",
   "id": "17afe683-d51a-4e0c-8dfd-fc8d9291a24e",
   "metadata": {},
   "source": [
    "# Array Slicing\n",
    "# 2D slicing syntax\n",
    "s[start_row : end_row : step_row : start_col : end_col : step_col]"
   ]
  },
  {
   "cell_type": "code",
   "execution_count": 16,
   "id": "a27d6f27-226d-4bb8-860c-e07b96c5291c",
   "metadata": {},
   "outputs": [
    {
     "name": "stdout",
     "output_type": "stream",
     "text": [
      "[[10 20 30 40]\n",
      " [50 60 70 80]]\n",
      "[[20 30 40]\n",
      " [60 70 80]]\n"
     ]
    }
   ],
   "source": [
    "s = np.array([[10,20,30,40],[50,60,70,80]])\n",
    "print(s)\n",
    "print(s[:2,1:])"
   ]
  },
  {
   "cell_type": "code",
   "execution_count": 18,
   "id": "b7d1b084-495c-407d-b3f6-a8ff7d4e6da5",
   "metadata": {},
   "outputs": [
    {
     "name": "stdout",
     "output_type": "stream",
     "text": [
      "[[31 32 33 34]\n",
      " [35 36 37 38]\n",
      " [39 40 41 42]\n",
      " [43 44 45 46]]\n",
      "1\n",
      " [[31 32 33 34]\n",
      " [35 36 37 38]\n",
      " [39 40 41 42]]\n",
      "2\n",
      " [34 38 42 46]\n",
      "3\n",
      " [39 40]\n"
     ]
    }
   ],
   "source": [
    "print(b)\n",
    "print(\"1\\n\",b[:-1])  # row = -1\n",
    "print(\"2\\n\",b[:,-1])  # all cols are sliced, slicing  all rows from top to bottom till index - 2 \n",
    "print(\"3\\n\",b[-2,:-2])  # start_row = -2, end_col = -2"
   ]
  },
  {
   "cell_type": "code",
   "execution_count": 22,
   "id": "98c13e73-fef9-4461-96e4-07bfdcd15e5b",
   "metadata": {},
   "outputs": [
    {
     "name": "stdout",
     "output_type": "stream",
     "text": [
      "[[31 32 33 34]\n",
      " [35 36 37 38]\n",
      " [39 40 41 42]\n",
      " [43 44 45 46]]\n",
      "[[38]\n",
      " [42]\n",
      " [46]]\n"
     ]
    }
   ],
   "source": [
    "print(b)\n",
    "print(b[1:,3:]) # Start-r = 1, step-r =1,  start-c = 3, step-c =+1"
   ]
  },
  {
   "cell_type": "code",
   "execution_count": 26,
   "id": "ca72461a-d5b6-476b-8cf9-1893c80a91c4",
   "metadata": {},
   "outputs": [
    {
     "name": "stdout",
     "output_type": "stream",
     "text": [
      "[[31 32 33 34]\n",
      " [35 36 37 38]\n",
      " [39 40 41 42]\n",
      " [43 44 45 46]]\n",
      "[[39 40 41]\n",
      " [43 44 45]]\n",
      "[[37 38]\n",
      " [41 42]\n",
      " [45 46]]\n",
      "[[31 32 33 34]\n",
      " [35 36 37 38]]\n",
      "[[31]\n",
      " [39]]\n"
     ]
    }
   ],
   "source": [
    "print(b)\n",
    "print(b[-2:,:-1]) # start-r = -1, step-r = +1, end-c = -1, start-c = +1\n",
    "print(b[1:,2:])  # start-r = 1,end-r = +1, start-c = 2, start-c = +1\n",
    "print(b[:2,0:])  # end-r = 2, step-r = +1, start-c = 0, end-c = +1\n",
    "print(b[::2,:1])   # step-r = +2, step-c= +1"
   ]
  },
  {
   "cell_type": "code",
   "execution_count": 28,
   "id": "c20a5367-4187-4b53-9cbd-cc0773532cf9",
   "metadata": {},
   "outputs": [
    {
     "name": "stdout",
     "output_type": "stream",
     "text": [
      "[[31 33]\n",
      " [35 37]]\n"
     ]
    }
   ],
   "source": [
    "print(b[:2,::2]) # end-r = 2, step-r = +1, step-c = +2"
   ]
  },
  {
   "cell_type": "code",
   "execution_count": 30,
   "id": "92a2d100-d5f5-4e8b-bd10-dc541174b16b",
   "metadata": {},
   "outputs": [
    {
     "name": "stdout",
     "output_type": "stream",
     "text": [
      "[[36 38]\n",
      " [44 46]]\n",
      "[[31 34]\n",
      " [39 42]]\n",
      "[36 32]\n"
     ]
    }
   ],
   "source": [
    "print(b[1::2,1::2]) # start-r = 1, step-r = 2, start-c = 1, step-c=2\n",
    "print(b[0::2,0::3]) # start-r = 0, step-r = 2, start-c =0 , step-c = 3\n",
    "print(b[-3::-1,-3]) # start-r = -3, step-r = -3, start-c = -3, step =+1"
   ]
  },
  {
   "cell_type": "code",
   "execution_count": 32,
   "id": "9395c610-ba45-43ee-8682-e7f378c83adf",
   "metadata": {},
   "outputs": [
    {
     "name": "stdout",
     "output_type": "stream",
     "text": [
      "[[45 46]]\n",
      "[[43 44 45]\n",
      " [39 40 41]]\n",
      "[[31 34]\n",
      " [43 46]]\n",
      "[[46 43]\n",
      " [34 31]]\n"
     ]
    }
   ],
   "source": [
    "print(b[:2:-1,2::]) # end-r =2, step-r = -1, start-c = 2, step-c = +1\n",
    "print(b[:1:-1,:3]) # end-r =1,step-r =-1, end-c = 3, step-c =+1\n",
    "print(b[0::3,0::3]) # start-r = 0, step-r =3, start-c= 0, step-c = 3\n",
    "print(b[-1::-3,-1::-3]) # start-r = -1, step-r = -3, start-c = -1, step-c = -3"
   ]
  },
  {
   "cell_type": "code",
   "execution_count": 34,
   "id": "33c4257c-9ab9-4bcc-99c4-51925a088424",
   "metadata": {},
   "outputs": [
    {
     "name": "stdout",
     "output_type": "stream",
     "text": [
      "[[36 37]\n",
      " [40 41]]\n",
      "[[42 39]\n",
      " [38 35]]\n",
      "[[41 40]\n",
      " [33 32]]\n",
      "[[41 40]\n",
      " [33 32]]\n"
     ]
    }
   ],
   "source": [
    "print(b[1:3,1:3]) # start-r = 1, end-r = 3, step-r =+1, start-c = 1, start-c = 3, step-c = +1\n",
    "print(b[-2:-4:-1,-1::-3])  # start-r = -2, end-r = -4, step-r =-1, start-c = -1, step-c = -3\n",
    "print(b[-2::-2,-2:-4:-1]) #  start-r = -2, step-r = -2, start-c = -2,end-c = -4, step-c = -1\n",
    "print(b[-2::-2,-2:0:-1]) #  start-r = -2, step-r =-2, start-c = -2, end-c= 0,step-c = -1"
   ]
  },
  {
   "cell_type": "markdown",
   "id": "c4eaa048-0f2a-4a7e-9bc4-d3c8d50480cc",
   "metadata": {},
   "source": [
    "## 2D Advance Indexing and slicing"
   ]
  },
  {
   "cell_type": "code",
   "execution_count": 36,
   "id": "99616c64-b296-4dbf-b2fc-efe4c3ba6648",
   "metadata": {},
   "outputs": [
    {
     "name": "stdout",
     "output_type": "stream",
     "text": [
      "[[31 32 33 34]\n",
      " [35 36 37 38]\n",
      " [39 40 41 42]\n",
      " [43 44 45 46]]\n",
      "[31 36 41]\n",
      "[31 36 41 46 33 45]\n",
      "[34 37 40 43]\n",
      "[35 40 45 39]\n"
     ]
    }
   ],
   "source": [
    "print(b)\n",
    "print(b[[0,1,2],[0,1,2]])\n",
    "print(b[[0,1,2,3,0,3],[0,1,2,3,2,2]])\n",
    "print(b[[0,1,2,3],[3,2,1,0]])\n",
    "print(b[[1,2,-1,-2],[0,1,-2,-4]])"
   ]
  },
  {
   "cell_type": "code",
   "execution_count": null,
   "id": "5851eea5-4363-4d42-9163-5aa945a3109f",
   "metadata": {},
   "outputs": [],
   "source": []
  }
 ],
 "metadata": {
  "kernelspec": {
   "display_name": "Python 3 (ipykernel)",
   "language": "python",
   "name": "python3"
  },
  "language_info": {
   "codemirror_mode": {
    "name": "ipython",
    "version": 3
   },
   "file_extension": ".py",
   "mimetype": "text/x-python",
   "name": "python",
   "nbconvert_exporter": "python",
   "pygments_lexer": "ipython3",
   "version": "3.12.4"
  }
 },
 "nbformat": 4,
 "nbformat_minor": 5
}
