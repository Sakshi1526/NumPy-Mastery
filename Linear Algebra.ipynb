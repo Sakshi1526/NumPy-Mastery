{
 "cells": [
  {
   "cell_type": "code",
   "execution_count": 2,
   "id": "9ebe8ba5-40ff-4103-af29-1209477e9ed9",
   "metadata": {},
   "outputs": [],
   "source": [
    "import numpy as np"
   ]
  },
  {
   "cell_type": "markdown",
   "id": "386b9e43-7bca-4355-a33c-91d1756a9ea4",
   "metadata": {},
   "source": [
    "Solving linear equation with 2 unknown and 2 equations"
   ]
  },
  {
   "cell_type": "markdown",
   "id": "72095692-6afd-4c05-8c6a-5b3cd27125ad",
   "metadata": {},
   "source": [
    "find x and y from the following equations \n",
    "1. 2x + 3y = 20\n",
    "2.  5x - 4y = 27"
   ]
  },
  {
   "cell_type": "code",
   "execution_count": 4,
   "id": "de671dc7-7d6f-449c-93a7-7f3cd5ffabc8",
   "metadata": {},
   "outputs": [
    {
     "name": "stdout",
     "output_type": "stream",
     "text": [
      "[7. 2.]\n"
     ]
    }
   ],
   "source": [
    "a = np.array([[2,3],[5,-4]])\n",
    "b = np.array([20,27])\n",
    "res = np.linalg.solve(a,b)\n",
    "print(res)"
   ]
  },
  {
   "cell_type": "markdown",
   "id": "120b716f-95d5-4d29-ad92-4914c83b2dc0",
   "metadata": {},
   "source": [
    "Solving linear equation with 3 unknown and 3 equations"
   ]
  },
  {
   "cell_type": "markdown",
   "id": "a072636e-2a3a-40bb-b3fc-6f47cfd3dc75",
   "metadata": {},
   "source": [
    "find x and y\n",
    "1. 8x + 3y - 2z = 9\n",
    "2. -4x + 7y + 5z = 15\n",
    "3. 3x + 4y - 12z = 35"
   ]
  },
  {
   "cell_type": "code",
   "execution_count": 6,
   "id": "d39a2062-e086-4e95-ab1d-c0a766255253",
   "metadata": {},
   "outputs": [
    {
     "name": "stdout",
     "output_type": "stream",
     "text": [
      "[-0.58226371  3.22870478 -1.98599767]\n"
     ]
    }
   ],
   "source": [
    "a = np.array([[8,3,-2],[-4,7,5],[3,4,-12]])\n",
    "b = np.array([9,15,35])\n",
    "x = np.linalg.solve(a,b)\n",
    "print(x)"
   ]
  },
  {
   "cell_type": "markdown",
   "id": "54daaf51-13e0-4ee6-934d-64e131e4ccee",
   "metadata": {},
   "source": [
    "**Dot Product**\n",
    "This is equaivalent to matrix multiplication\n",
    "\n",
    "##**Rules for Dot product**\n",
    "\n",
    "Array a(m,n) and b(p,q) are dot product compatible if n=p<br>\n",
    "then the shape of the resultant shape of the array after dot product has been computed is (m,q)"
   ]
  },
  {
   "cell_type": "code",
   "execution_count": 8,
   "id": "572082a7-20f7-4814-9636-6d9e6b55c5e9",
   "metadata": {},
   "outputs": [
    {
     "name": "stdout",
     "output_type": "stream",
     "text": [
      "[[9 5 2]\n",
      " [1 8 5]\n",
      " [3 1 6]]\n",
      "(3, 3)\n"
     ]
    }
   ],
   "source": [
    "a = np.array([[9,5,2,],[1,8,5],[3,1,6]])\n",
    "print(a)\n",
    "print(a.shape)"
   ]
  },
  {
   "cell_type": "code",
   "execution_count": 10,
   "id": "3780e3e1-0d69-411e-a3b6-cbeb51c5400a",
   "metadata": {},
   "outputs": [
    {
     "name": "stdout",
     "output_type": "stream",
     "text": [
      "[[3 2]\n",
      " [1 4]\n",
      " [5 3]]\n",
      "(3, 2)\n"
     ]
    }
   ],
   "source": [
    "b = np.array([[3,2],[1,4],[5,3]])\n",
    "print(b)\n",
    "print(b.shape)"
   ]
  },
  {
   "cell_type": "code",
   "execution_count": 12,
   "id": "e7c9eaa5-6ada-4890-b446-c4515cca289b",
   "metadata": {},
   "outputs": [
    {
     "name": "stdout",
     "output_type": "stream",
     "text": [
      "[[42 44]\n",
      " [36 49]\n",
      " [40 28]]\n",
      "(3, 2)\n",
      "[[42 44]\n",
      " [36 49]\n",
      " [40 28]]\n",
      "(3, 2)\n"
     ]
    }
   ],
   "source": [
    "res1 = np.dot(a,b)  # (3,3) (3,2)\n",
    "res2 = np.matmul(a,b)\n",
    "print(res1)\n",
    "print(res1.shape)\n",
    "print(res2)\n",
    "print(res2.shape)"
   ]
  },
  {
   "cell_type": "markdown",
   "id": "8d001b99-1933-44ca-b2fe-82714592f3d5",
   "metadata": {},
   "source": [
    "##### Matrix Inverse\n",
    "\n",
    "The Inverse of a square matrix A, is a matrix A-1 such that AA-1 = I\n",
    "where I is the identity matrix and AA-1 is dot product between A and A-1\n",
    "\n",
    "## Identity Matrix\n",
    "\n",
    "A matrix where the primary diagonal elements are 1 and the remaining elements are 0\n",
    "\n",
    "## Primary diagonal\n",
    "\n",
    "In a square matrix elements starting from top left to the bottom right constitute primary diagonal elements"
   ]
  },
  {
   "cell_type": "code",
   "execution_count": 14,
   "id": "c724c469-92a1-482c-9581-a0a1145bbbda",
   "metadata": {},
   "outputs": [
    {
     "name": "stdout",
     "output_type": "stream",
     "text": [
      "[[2 3]\n",
      " [1 2]]\n",
      "(2, 2)\n"
     ]
    }
   ],
   "source": [
    "q = np.array([[2,3],[1,2]])\n",
    "print(q)\n",
    "print(q.shape)"
   ]
  },
  {
   "cell_type": "code",
   "execution_count": 16,
   "id": "2afb9be6-4ca0-43d2-9635-0ae22e40064d",
   "metadata": {},
   "outputs": [
    {
     "name": "stdout",
     "output_type": "stream",
     "text": [
      "[[ 2. -3.]\n",
      " [-1.  2.]]\n"
     ]
    }
   ],
   "source": [
    "q_inv = np.linalg.inv(q)\n",
    "print(q_inv)"
   ]
  },
  {
   "cell_type": "code",
   "execution_count": 18,
   "id": "5949d821-ebe0-4b20-8001-992c36e40cf9",
   "metadata": {},
   "outputs": [
    {
     "name": "stdout",
     "output_type": "stream",
     "text": [
      "[[1. 0.]\n",
      " [0. 1.]]\n"
     ]
    }
   ],
   "source": [
    "r1 = np.dot(q,q_inv)\n",
    "print(r1)"
   ]
  },
  {
   "cell_type": "markdown",
   "id": "38ef12d3-bd4f-4a27-b14a-d5c5ef69ea63",
   "metadata": {},
   "source": [
    "## Dterminant of a matrix\n",
    "\n",
    "If A is a 2x2 matrix"
   ]
  },
  {
   "cell_type": "code",
   "execution_count": 20,
   "id": "b2af9463-92e7-4bc9-8b7e-84113f51956c",
   "metadata": {},
   "outputs": [
    {
     "name": "stdout",
     "output_type": "stream",
     "text": [
      "[[5 3]\n",
      " [2 4]]\n",
      "Det of w is 14\n"
     ]
    }
   ],
   "source": [
    "w = np.array([[5,3],[2,4]])\n",
    "print(w)\n",
    "det = np.linalg.det(w)\n",
    "print(\"Det of w is\",round(det))"
   ]
  },
  {
   "cell_type": "markdown",
   "id": "69471e57-1213-4b1a-b973-fce636f6852d",
   "metadata": {},
   "source": [
    "## Trace\n",
    "\n",
    "Trace is sum of primary diagonal elements"
   ]
  },
  {
   "cell_type": "code",
   "execution_count": 22,
   "id": "18b88d6d-f51a-4037-b73c-8b39fa78f567",
   "metadata": {},
   "outputs": [
    {
     "name": "stdout",
     "output_type": "stream",
     "text": [
      "[[ 3  6  2]\n",
      " [ 9 12 17]\n",
      " [22 18 15]]\n",
      "Trace of a 30\n"
     ]
    }
   ],
   "source": [
    "a = np.array([[3,6,2],[9,12,17],[22,18,15]])\n",
    "print(a)\n",
    "trace = np.trace(a)\n",
    "print(\"Trace of a\",trace)"
   ]
  },
  {
   "cell_type": "markdown",
   "id": "20177374-349d-41f3-8a38-29166fc8b7cb",
   "metadata": {},
   "source": [
    "## Eigen Values and Eigen Vector\n",
    "\n",
    "1. Eigen values and eigen vectors are defined only for square matrices\n",
    "2.  An eigen value of matrix A is a scalar (Lambda) such that the equation Au = ^u has a nontrivial solution.\n",
    "3.  An eigen vector of matrix A is a nonzero v such that Au = ^u, for some scalar ^.\n",
    "4.  Eigen vectors are by definition nonzero. Eigen values may be equal to zero.\n",
    "\n",
    "\n",
    "Av = ^v\n",
    "\n",
    "where\n",
    "A = is the square matrix\n",
    "^ = Eigen value\n",
    "v = Eigen vectors\n",
    "\n",
    "Av = ^Iv\n",
    "Av - ^Iv = 0\n",
    "v(A-^I) = 0\n",
    "\n",
    "If v is non_zero, then det((A-^I)) = 0"
   ]
  },
  {
   "cell_type": "code",
   "execution_count": null,
   "id": "f39029ff-798e-4b88-8868-e3b435af7395",
   "metadata": {},
   "outputs": [],
   "source": [
    "d = np.array([[7,4],[5,9]])\n",
    "eig_val.eig_vec = np.linalg.eig(d)\n",
    "print(\"Eigen values \\n\", eig_val)\n",
    "print(\"Eigen vector\\n\", eig_val)"
   ]
  }
 ],
 "metadata": {
  "kernelspec": {
   "display_name": "Python 3 (ipykernel)",
   "language": "python",
   "name": "python3"
  },
  "language_info": {
   "codemirror_mode": {
    "name": "ipython",
    "version": 3
   },
   "file_extension": ".py",
   "mimetype": "text/x-python",
   "name": "python",
   "nbconvert_exporter": "python",
   "pygments_lexer": "ipython3",
   "version": "3.12.4"
  }
 },
 "nbformat": 4,
 "nbformat_minor": 5
}
