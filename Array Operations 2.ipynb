{
 "cells": [
  {
   "cell_type": "markdown",
   "id": "f8aefea2-1372-45b0-a01b-c535aef1da43",
   "metadata": {},
   "source": [
    "## Numpy Array Operations"
   ]
  },
  {
   "cell_type": "markdown",
   "id": "5c0b14b9-48d5-4d84-8055-659705fea0bd",
   "metadata": {},
   "source": [
    "1) np.concatenate()"
   ]
  },
  {
   "cell_type": "code",
   "execution_count": 3,
   "id": "1a269d1d-b9f3-4cde-86e0-865de9792784",
   "metadata": {},
   "outputs": [],
   "source": [
    "import numpy as np"
   ]
  },
  {
   "cell_type": "code",
   "execution_count": 4,
   "id": "80d47597-84ca-4558-9934-2bde696b8327",
   "metadata": {},
   "outputs": [
    {
     "name": "stdout",
     "output_type": "stream",
     "text": [
      "[12 13 14 15]\n",
      "[18 19 20 21 22]\n"
     ]
    }
   ],
   "source": [
    "w1 = np.array([12,13,14,15])\n",
    "w2 = np.array([18,19,20,21,22])\n",
    "print(w1)\n",
    "print(w2)"
   ]
  },
  {
   "cell_type": "code",
   "execution_count": 7,
   "id": "f0b29223-da57-43c7-a57f-636131d9f2eb",
   "metadata": {},
   "outputs": [
    {
     "name": "stdout",
     "output_type": "stream",
     "text": [
      "[12 13 14 15 18 19 20 21 22]\n",
      "[18 19 20 21 22 12 13 14 15]\n"
     ]
    }
   ],
   "source": [
    "r1 = np.concatenate([w1,w2])\n",
    "print(r1)\n",
    "r2 = np.concatenate([w2,w1])\n",
    "print(r2)"
   ]
  },
  {
   "cell_type": "code",
   "execution_count": 9,
   "id": "5e62a506-6060-467f-bd5f-3b25cd70274d",
   "metadata": {},
   "outputs": [
    {
     "name": "stdout",
     "output_type": "stream",
     "text": [
      "[[1 2 3]\n",
      " [4 5 6]]\n",
      "[[ 7  8  9]\n",
      " [10 11 13]]\n",
      "(2, 3) (2, 3)\n"
     ]
    }
   ],
   "source": [
    "d1 = np.array([[1,2,3],[4,5,6]])\n",
    "d2 = np.array([[7,8,9],[10,11,13]])\n",
    "print(d1)\n",
    "print(d2)\n",
    "print(d1.shape, d2.shape)"
   ]
  },
  {
   "cell_type": "code",
   "execution_count": 11,
   "id": "f250e347-1845-4524-b4e1-bc5be9655e73",
   "metadata": {},
   "outputs": [
    {
     "name": "stdout",
     "output_type": "stream",
     "text": [
      "[[ 1  2  3]\n",
      " [ 4  5  6]\n",
      " [ 7  8  9]\n",
      " [10 11 13]]\n",
      "[[ 1  2  3]\n",
      " [ 4  5  6]\n",
      " [ 7  8  9]\n",
      " [10 11 13]]\n"
     ]
    }
   ],
   "source": [
    "r2 = np.concatenate([d1,d2],axis=0) # column wise ( c wise concatenate)\n",
    "# no new c are created, rather new r are created\n",
    "print(r2)\n",
    "r3 = np.concatenate([d1,d2]) # row wise ( r wise concatenate)\n",
    "# no new r are created, rather new c are created\n",
    "print(r3)"
   ]
  },
  {
   "cell_type": "markdown",
   "id": "1d033c96-375d-4c07-8370-8126934f0f4d",
   "metadata": {},
   "source": [
    "2) np.vstack and np.hstack()\n",
    "\n",
    "Vertically and horizontally"
   ]
  },
  {
   "cell_type": "code",
   "execution_count": 13,
   "id": "0a1aa670-ec90-4965-81d3-95070023f0f4",
   "metadata": {},
   "outputs": [
    {
     "name": "stdout",
     "output_type": "stream",
     "text": [
      "[[1 2 3]\n",
      " [4 5 6]]\n",
      "[[-4 -2  0]\n",
      " [ 7  9  2]]\n"
     ]
    }
   ],
   "source": [
    "z1 = np.array([[1,2,3],[4,5,6]])\n",
    "z2 = np.array([[-4,-2,0],[7,9,2]])\n",
    "print(z1)\n",
    "print(z2)"
   ]
  },
  {
   "cell_type": "code",
   "execution_count": 15,
   "id": "8c22b3a9-49ec-4456-a159-63242b079b0d",
   "metadata": {},
   "outputs": [
    {
     "name": "stdout",
     "output_type": "stream",
     "text": [
      "[[ 1  2  3 -4 -2  0]\n",
      " [ 4  5  6  7  9  2]]\n",
      "[[ 1  2  3]\n",
      " [ 4  5  6]\n",
      " [-4 -2  0]\n",
      " [ 7  9  2]]\n"
     ]
    }
   ],
   "source": [
    "r1 = np.hstack((z1,z2))\n",
    "#no new r are created, rather new c are created\n",
    "r2 = np.vstack([z1,z2])\n",
    "# no new c are created, rather new r are created\n",
    "print(r1)\n",
    "print(r2)"
   ]
  },
  {
   "cell_type": "markdown",
   "id": "74a768f0-ba8e-42b5-b46e-ad1933ff5e80",
   "metadata": {},
   "source": [
    "3) np.hsplit() and np.vsplit()\n",
    "\n",
    "horizontally = c wise \n",
    "vertically = r wise"
   ]
  },
  {
   "cell_type": "code",
   "execution_count": 17,
   "id": "71b9ee31-a8a7-4cdb-92af-52aa3b08c25f",
   "metadata": {},
   "outputs": [
    {
     "name": "stdout",
     "output_type": "stream",
     "text": [
      "[1 2 3 4 5 6 7 8]\n",
      "[array([1, 2, 3, 4]), array([5, 6, 7, 8])]\n"
     ]
    }
   ],
   "source": [
    "t = np.arange(1,9)\n",
    "print(t)\n",
    "res = np.hsplit(t,2)\n",
    "print(res)"
   ]
  },
  {
   "cell_type": "code",
   "execution_count": null,
   "id": "d438d06d-a621-4644-a94e-bc3ac60afc38",
   "metadata": {},
   "outputs": [],
   "source": [
    "w1 = np.array([[1,2,3,4],[5,6,7,8],[9,10,11,12],[13,14,15,16]])\n",
    "print(w1)"
   ]
  }
 ],
 "metadata": {
  "kernelspec": {
   "display_name": "Python 3 (ipykernel)",
   "language": "python",
   "name": "python3"
  },
  "language_info": {
   "codemirror_mode": {
    "name": "ipython",
    "version": 3
   },
   "file_extension": ".py",
   "mimetype": "text/x-python",
   "name": "python",
   "nbconvert_exporter": "python",
   "pygments_lexer": "ipython3",
   "version": "3.12.4"
  }
 },
 "nbformat": 4,
 "nbformat_minor": 5
}
